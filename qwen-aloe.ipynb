{
 "cells": [
  {
   "cell_type": "markdown",
   "metadata": {},
   "source": [
    "*Things we can try:*\n",
    "\n",
    "- Increase dataset size for train and test using experimental data in aci bench\n",
    "- use generation args/training args to not let responses repeat(as mentioned by anoshor)\n",
    "- Improve prompts\n",
    "- Mess with hyper parameters to tune responses if necessary "
   ]
  },
  {
   "cell_type": "code",
   "execution_count": 118,
   "metadata": {
    "scrolled": true
   },
   "outputs": [],
   "source": [
    "# !pip3 install torch torchvision torchaudio --index-url https://download.pytorch.org/whl/cu118"
   ]
  },
  {
   "cell_type": "code",
   "execution_count": 1,
   "metadata": {},
   "outputs": [
    {
     "name": "stdout",
     "output_type": "stream",
     "text": [
      "True\n",
      "11.8\n",
      "True\n"
     ]
    }
   ],
   "source": [
    "import torch\n",
    "print(torch.cuda.is_available())  # Should print True if CUDA is available\n",
    "print(torch.version.cuda)         # Should print the installed CUDA version\n",
    "print(torch.backends.cudnn.enabled)  # Should be True if cuDNN is enabled"
   ]
  },
  {
   "cell_type": "code",
   "execution_count": 3,
   "metadata": {},
   "outputs": [
    {
     "name": "stdout",
     "output_type": "stream",
     "text": [
      "Tue Mar 18 17:44:44 2025       \n",
      "+-----------------------------------------------------------------------------------------+\n",
      "| NVIDIA-SMI 572.61                 Driver Version: 572.61         CUDA Version: 12.8     |\n",
      "|-----------------------------------------+------------------------+----------------------+\n",
      "| GPU  Name                  Driver-Model | Bus-Id          Disp.A | Volatile Uncorr. ECC |\n",
      "| Fan  Temp   Perf          Pwr:Usage/Cap |           Memory-Usage | GPU-Util  Compute M. |\n",
      "|                                         |                        |               MIG M. |\n",
      "|=========================================+========================+======================|\n",
      "|   0  NVIDIA RTX A6000             WDDM  |   00000000:47:00.0 Off |                  Off |\n",
      "| 30%   35C    P8             21W /  300W |     499MiB /  49140MiB |      3%      Default |\n",
      "|                                         |                        |                  N/A |\n",
      "+-----------------------------------------+------------------------+----------------------+\n",
      "                                                                                         \n",
      "+-----------------------------------------------------------------------------------------+\n",
      "| Processes:                                                                              |\n",
      "|  GPU   GI   CI              PID   Type   Process name                        GPU Memory |\n",
      "|        ID   ID                                                               Usage      |\n",
      "|=========================================================================================|\n",
      "|    0   N/A  N/A            2060    C+G   ....0.3065.92\\msedgewebview2.exe      N/A      |\n",
      "|    0   N/A  N/A            3136    C+G   ...ekyb3d8bbwe\\CopilotNative.exe      N/A      |\n",
      "|    0   N/A  N/A            4048    C+G   ...yb3d8bbwe\\WindowsTerminal.exe      N/A      |\n",
      "|    0   N/A  N/A            6620    C+G   ..._cw5n1h2txyewy\\SearchHost.exe      N/A      |\n",
      "|    0   N/A  N/A            9036    C+G   ...5n1h2txyewy\\TextInputHost.exe      N/A      |\n",
      "|    0   N/A  N/A           10428    C+G   C:\\Windows\\explorer.exe               N/A      |\n",
      "|    0   N/A  N/A           13456    C+G   ...em32\\ApplicationFrameHost.exe      N/A      |\n",
      "|    0   N/A  N/A           17280    C+G   ...crosoft\\OneDrive\\OneDrive.exe      N/A      |\n",
      "|    0   N/A  N/A           21068    C+G   ...y\\StartMenuExperienceHost.exe      N/A      |\n",
      "+-----------------------------------------------------------------------------------------+\n"
     ]
    }
   ],
   "source": [
    "!nvidia-smi"
   ]
  },
  {
   "cell_type": "code",
   "execution_count": 3,
   "metadata": {},
   "outputs": [
    {
     "name": "stderr",
     "output_type": "stream",
     "text": [
      "C:\\Users\\BMSCE CSE.DESKTOP-IUB6THA\\.conda\\envs\\kshitij\\Lib\\site-packages\\tqdm\\auto.py:21: TqdmWarning: IProgress not found. Please update jupyter and ipywidgets. See https://ipywidgets.readthedocs.io/en/stable/user_install.html\n",
      "  from .autonotebook import tqdm as notebook_tqdm\n"
     ]
    }
   ],
   "source": [
    "import torch\n",
    "import bitsandbytes as bnb\n",
    "from transformers import (\n",
    "    AutoTokenizer,\n",
    "    AutoModelForCausalLM,\n",
    "    BitsAndBytesConfig,\n",
    "    TrainingArguments,\n",
    "    Trainer\n",
    ")\n",
    "from peft import LoraConfig, get_peft_model, TaskType\n",
    "from datasets import load_dataset\n",
    "import pandas as pd\n"
   ]
  },
  {
   "cell_type": "code",
   "execution_count": 5,
   "metadata": {},
   "outputs": [],
   "source": [
    "data_path = \"C:\\\\Users\\\\BMSCE CSE.DESKTOP-IUB6THA\\\\Downloads\\\\kshitij\\\\clinical_visit_note_summarization_corpus\\\\data\\\\aci-bench\\\\\"\n",
    "\n",
    "train_df = pd.read_csv(data_path + \"challenge_data\\\\train.csv\")"
   ]
  },
  {
   "cell_type": "code",
   "execution_count": 7,
   "metadata": {},
   "outputs": [
    {
     "data": {
      "text/html": [
       "<div>\n",
       "<style scoped>\n",
       "    .dataframe tbody tr th:only-of-type {\n",
       "        vertical-align: middle;\n",
       "    }\n",
       "\n",
       "    .dataframe tbody tr th {\n",
       "        vertical-align: top;\n",
       "    }\n",
       "\n",
       "    .dataframe thead th {\n",
       "        text-align: right;\n",
       "    }\n",
       "</style>\n",
       "<table border=\"1\" class=\"dataframe\">\n",
       "  <thead>\n",
       "    <tr style=\"text-align: right;\">\n",
       "      <th></th>\n",
       "      <th>dataset</th>\n",
       "      <th>encounter_id</th>\n",
       "      <th>dialogue</th>\n",
       "      <th>note</th>\n",
       "    </tr>\n",
       "  </thead>\n",
       "  <tbody>\n",
       "    <tr>\n",
       "      <th>0</th>\n",
       "      <td>virtassist</td>\n",
       "      <td>D2N001</td>\n",
       "      <td>[doctor] hi , martha . how are you ?\\r\\n[patie...</td>\n",
       "      <td>CHIEF COMPLAINT\\r\\n\\r\\nAnnual exam.\\r\\n\\r\\nHIS...</td>\n",
       "    </tr>\n",
       "  </tbody>\n",
       "</table>\n",
       "</div>"
      ],
      "text/plain": [
       "      dataset encounter_id                                           dialogue  \\\n",
       "0  virtassist       D2N001  [doctor] hi , martha . how are you ?\\r\\n[patie...   \n",
       "\n",
       "                                                note  \n",
       "0  CHIEF COMPLAINT\\r\\n\\r\\nAnnual exam.\\r\\n\\r\\nHIS...  "
      ]
     },
     "execution_count": 7,
     "metadata": {},
     "output_type": "execute_result"
    }
   ],
   "source": [
    "train_df.head(1)"
   ]
  },
  {
   "cell_type": "code",
   "execution_count": 9,
   "metadata": {
    "scrolled": true
   },
   "outputs": [
    {
     "name": "stdout",
     "output_type": "stream",
     "text": [
      "[doctor] hi , martha . how are you ?\n",
      "[patient] i'm doing okay . how are you ?\n",
      "[doctor] i'm doing okay . so , i know the nurse told you about dax . i'd like to tell dax a little bit about you , okay ?\n",
      "[patient] okay .\n",
      "[doctor] martha is a 50-year-old female with a past medical history significant for congestive heart failure , depression and hypertension who presents for her annual exam . so , martha , it's been a year since i've seen you . how are you doing ?\n",
      "[patient] i'm doing well . i've been traveling a lot recently since things have , have gotten a bit lighter . and i got my , my vaccine , so i feel safer about traveling . i've been doing a lot of hiking . uh , went to washington last weekend to hike in northern cascades, like around the mount baker area .\n",
      "[doctor] nice . that's great . i'm glad to hear that you're staying active , you know . i , i just love this weather . i'm so happy the summer is over . i'm definitely more of a fall person .\n",
      "[patient] yes , fall foliage is the best .\n",
      "[doctor] yeah . um , so tell me , how are you doing with the congestive heart failure ? how are you doing watching your diet ? i know we've talked about watching a low sodium diet . are you doing okay with that ?\n",
      "[patient] i've been doing well with that . i resisted , as much , as i could , from the tater tots , you know , the soft pretzels , the salty foods that i , i love to eat . and i've been doing a really good job .\n",
      "[doctor] okay , all right . well , i'm glad to hear that . and you're taking your medication ?\n",
      "[patient] yes .\n",
      "[doctor] okay , good . and any symptoms like chest pains , shortness of breath , any swelling in your legs ?\n",
      "[patient] no , not that i've noticed .\n",
      "[doctor] okay , all right . and then in terms of your depression , i know that we tried to stay off of medication in the past because you're on medications for your other problems . how are you doing ? and i know that you enrolled into therapy . is that helping ? or-\n",
      "[patient] yeah , it's been helping a lot . i've been going every week , um , for the past year since my last annual exam . and that's been really helpful for me .\n",
      "[doctor] okay . so , no , no issues , no feelings of wanting to harm yourself or hurt others ?\n",
      "[patient] no , nothing like that .\n",
      "[doctor] okay , all right . and then in terms of your high blood pressure , i know that you and i have kind of battled in the past with you remembering to take some of your blood pressure medications . how are you doing with that ?\n",
      "[patient] i'm still forgetting to take my blood pressure medication . and i've noticed when work gets more stressful , my blood pressure goes up .\n",
      "[doctor] okay . and , and so how has work going for you ?\n",
      "[patient] it's been okay . it's been a lot of long hours , late nights . a lot of , um , you know , fiscal year end data that i've been having to pull . so , a lot of responsibility , which is good . but with the responsibility comes the stress .\n",
      "[doctor] yeah , okay , all right . i understand . um , all right . well , i know that you did a review of system sheet when you checked in with the nurse . i know that you were endorsing some nasal congestion from some of the fall pollen and allergies . any other symptoms , nausea or vomiting , abdominal pain , anything like that ?\n",
      "[patient] no , nothing like that .\n",
      "[doctor] no , okay , all right . well , i'm gon na go ahead and do a quick physical exam , okay ?\n",
      "[patient] okay .\n",
      "[doctor] hey , dragon , show me the blood pressure . so , yeah , looking at your blood pressure today here in the office , it is a little elevated . you know , it could just , you could just be nervous . uh , let's look at some of the past readings . hey , dragon , show me the blood pressure readings . hey , dragon , show me the blood pressure readings . here we go . uh , so they are running on the higher side . um , y- you know , i , i do think that , you know , i'd like to see you take your medication a little bit more , so that we can get that under control a little bit better , okay ?\n",
      "[patient] okay .\n",
      "[doctor] so , i'm just gon na check out your heart and your lungs . and you know , let you know what i find , okay ?\n",
      "[patient] okay .\n",
      "[doctor] okay . so , on your physical examination , you know , everything looks good . on your heart exam , i do appreciate a three out of six systolic ejection murmur , which i've heard in the past , okay ? and on your lower extremities , i do appreciate one plus pitting edema , so you do have a little bit of fluid in your legs , okay ?\n",
      "[patient] okay .\n",
      "[doctor] let's go ahead , i wan na look at some of your results , okay ? hey , dragon , show me the echocardiogram . so , this is the result of the echocardiogram that we did last year . it showed that you have that low-ish pumping function of your heart at about 45 % . and it also sh- shows some mitral regurgitation , that's that heart murmur that i heard , okay ?\n",
      "[doctor] um , hey , dragon , show me the lipid panel . so , looking at your lipid panel from last year , you know , everything , your cholesterol was like , a tiny bit high . but it was n't too , too bad , so i know you're trying to watch your diet . so , we'll repeat another one this year , okay ?\n",
      "[patient] okay .\n",
      "[doctor] um , so i wan na just go over a little bit about my assessment and my plan for you , okay ? so , for your first problem your congestive heart failure , um , i wan na continue you on your current medications . but i do wan na increase your lisinopril to 40 milligrams a day , just because your blood pressure's high . and you know , you are retaining a little bit of fluid . i also wan na start you on some lasix , you know , 20 milligrams a day . and have you continue to watch your , your diet , okay ?\n",
      "[patient] okay .\n",
      "[doctor] i also wan na repeat another echocardiogram , okay ?\n",
      "[patient] all right .\n",
      "[doctor] hey , dragon , order an echocardiogram . from a depression standpoint , it sounds like you're doing really well with that . so , i'm , i'm really happy for you . i'm , i'm glad to see that you're in therapy and you're doing really well . i do n't feel the need to start you on any medications this year , unless you feel differently .\n",
      "[patient] no , i feel the same way .\n",
      "[doctor] okay , all right . and then for your last problem your hypertension , you know , again i , i , i think it's out of control . but we'll see , i think , you know , i'd like to see you take the lisinopril as directed , okay ? uh , i want you to record your blood pressures within the patient , you know , take your blood pressure every day . record them to me for like , about a week , so i have to see if we have to add another agent , okay ? 'cause we need to get that under better control for your heart failure to be more successful , okay ?\n",
      "[patient] okay .\n",
      "[doctor] do you have any questions ? , and i forgot . for your annual exam , you're due for a mammogram , so we have to schedule for that , as well , okay ?\n",
      "[patient] okay .\n",
      "[doctor] okay . do you have any questions ?\n",
      "[patient] can i take all my pills at the same time ?\n",
      "[doctor] yeah .\n",
      "[patient] 'cause i've been trying to take them at different times of the day , 'cause i did n't know if it was bad to take them all at once or i should separate them . i do n't know .\n",
      "[doctor] yeah . you can certainly take them , you know , all at the same time , as long , as yeah , they're all one scale . you can take them all at the same time . just set an alarm-\n",
      "[patient] okay .\n",
      "[doctor] . some time during the day to take them , okay ?\n",
      "[patient] that might help me remember better .\n",
      "[doctor] all right . that sounds good . all right , well , it's good to see you .\n",
      "[patient] good seeing you too .\n",
      "[doctor] hey , dragon , finalize the note .\n"
     ]
    }
   ],
   "source": [
    "print(train_df.iloc[0]['dialogue'])"
   ]
  },
  {
   "cell_type": "code",
   "execution_count": 11,
   "metadata": {
    "scrolled": true
   },
   "outputs": [
    {
     "name": "stdout",
     "output_type": "stream",
     "text": [
      "CHIEF COMPLAINT\n",
      "\n",
      "Annual exam.\n",
      "\n",
      "HISTORY OF PRESENT ILLNESS\n",
      "\n",
      "Martha Collins is a 50-year-old female with a past medical history significant for congestive heart failure, depression, and hypertension who presents for her annual exam. It has been a year since I last saw the patient.\n",
      "\n",
      "The patient has been traveling a lot recently since things have gotten a bit better. She reports that she got her COVID-19 vaccine so she feels safer about traveling. She has been doing a lot of hiking.\n",
      "\n",
      "She reports that she is staying active. She has continued watching her diet and she is doing well with that. The patient states that she is avoiding salty foods that she likes to eat. She has continued utilizing her medications. The patient denies any chest pain, shortness of breath, or swelling in her legs.\n",
      "\n",
      "Regarding her depression, she reports that she has been going to therapy every week for the past year. This has been really helpful for her. She denies suicidal or homicidal ideation.\n",
      "\n",
      "The patient reports that she is still forgetting to take her blood pressure medication. She has noticed that when work gets more stressful, her blood pressure goes up. She reports that work has been going okay, but it has been a lot of long hours lately.\n",
      "\n",
      "She endorses some nasal congestion from some of the fall allergies. She denies any other symptoms of nausea, vomiting, abdominal pain.\n",
      "\n",
      "REVIEW OF SYSTEMS\n",
      "\n",
      "• Ears, Nose, Mouth and Throat: Endorses nasal congestion from allergies.\n",
      "• Cardiovascular: Denies chest pain or dyspnea on exertion.\n",
      "• Respiratory: Denies shortness of breath.\n",
      "• Gastrointestinal: Denies abdominal pain, nausea, or vomiting.\n",
      "• Psychiatric: Endorses depression. Denies suicidal or homicidal ideations.\n",
      "\n",
      "PHYSICAL EXAMINATION\n",
      "\n",
      "• Cardiovascular: Grade 3/6 systolic ejection murmur.\n",
      "1+ pitting edema of the bilateral lower extremities.\n",
      "\n",
      "VITALS REVIEWED\n",
      "\n",
      "• Blood Pressure: Elevated.\n",
      "\n",
      "RESULTS\n",
      "\n",
      "Echocardiogram demonstrates decreased ejection fraction of 45%. Mitral regurgitation is present.\n",
      "\n",
      "Lipid panel: Elevated cholesterol.\n",
      "\n",
      "ASSESSMENT AND PLAN\n",
      "\n",
      "Martha Collins is a 50-year-old female with a past medical history significant for congestive heart failure, depression, and hypertension who presents for her annual exam.\n",
      "\n",
      "Congestive heart failure.\n",
      "• Medical Reasoning: She has been compliant with her medication and dietary modifications. Her previous year's echocardiogram demonstrated a reduced ejection fraction of 45%, as well as some mitral regurgitation. Her cholesterol levels were slightly elevated on her lipid panel from last year.\n",
      "• Additional Testing: We will order a repeat echocardiogram. We will also repeat a lipid panel this year.\n",
      "• Medical Treatment: She will continue with her current medications. We will increase her lisinopril to 40 mg daily and initiate Lasix 20 mg daily.\n",
      "• Patient Education and Counseling: I encouraged her to continue with dietary modifications.\n",
      "\n",
      "Depression.\n",
      "• Medical Reasoning: She is doing well with weekly therapy.\n",
      "\n",
      "Hypertension.\n",
      "• Medical Reasoning: She has been compliant with dietary modifications but has been inconsistent with the use of her medication. She attributes elevations in her blood pressure to increased stress.\n",
      "• Medical Treatment: We will increase her lisinopril to 40 mg daily as noted above.\n",
      "• Patient Education and Counseling: I encouraged the patient to take her lisinopril as directed. I advised her to monitor her blood pressures at home for the next week and report them to me.\n",
      "\n",
      "Healthcare maintenance.\n",
      "• Medical Reasoning: The patient is due for her routine mammogram.\n",
      "• Additional Testing: We will order a mammogram and have this scheduled for her.\n",
      "\n",
      "Patient Agreements: The patient understands and agrees with the recommended medical treatment plan.\n",
      "\n"
     ]
    }
   ],
   "source": [
    "print(train_df.iloc[0]['note'])"
   ]
  },
  {
   "cell_type": "code",
   "execution_count": 13,
   "metadata": {},
   "outputs": [
    {
     "data": {
      "text/plain": [
       "(67, 4)"
      ]
     },
     "execution_count": 13,
     "metadata": {},
     "output_type": "execute_result"
    }
   ],
   "source": [
    "train_df.shape"
   ]
  },
  {
   "cell_type": "code",
   "execution_count": 15,
   "metadata": {},
   "outputs": [
    {
     "data": {
      "text/plain": [
       "(12, 4)"
      ]
     },
     "execution_count": 15,
     "metadata": {},
     "output_type": "execute_result"
    }
   ],
   "source": [
    "train_extended_df = pd.read_csv(data_path+\"src_experiment_data\\\\train_virtscribe_asr.csv\")\n",
    "\n",
    "train_extended_df.shape"
   ]
  },
  {
   "cell_type": "code",
   "execution_count": 17,
   "metadata": {},
   "outputs": [
    {
     "data": {
      "text/plain": [
       "(35, 4)"
      ]
     },
     "execution_count": 17,
     "metadata": {},
     "output_type": "execute_result"
    }
   ],
   "source": [
    "train_extended_df1 = pd.read_csv(data_path+\"src_experiment_data\\\\train_aci_asrcorr.csv\")\n",
    "\n",
    "train_extended_df1.shape"
   ]
  },
  {
   "cell_type": "code",
   "execution_count": 21,
   "metadata": {},
   "outputs": [
    {
     "name": "stdout",
     "output_type": "stream",
     "text": [
      "[doctor] patrick allen , date of birth 7/7/1977 . new patient visit . past medical history includes gerd , anxiety , depression , here for chronic abdominal pain , he had an abdominal ct on 1/23/2020 . impression is a normal ct of the abdomen . hello , are you mr. allen ? [patient] yes , i am . [doctor] hi , my name is dr. edwards , nice to meet you . [patient] nice to meet you . [doctor] welcome to the gi specialty clinic . [patient] thank you . [doctor] did you have any problems finding this ? [patient] no , i've been here with my sister once before . [doctor] good , so how can i help you today ? the referral i have is for abdominal pain and diarrhea . [patient] right so i've had been having this pain right here in my stomach like right around here . [doctor] so in the area of your mid abdomen just below the belly button ? [patient] correct . i've had the pain on and off for about 2 years . i finally went to the er and a a few months ago and they did a ct scan . [doctor] i saw that . [patient] yeah , they said they did n't really see anything on the scan . [doctor] yes , i agree , it looked normal . [patient] and the problem is i'm either constipated or have explosive diarrhea . [doctor] is the pain there all the time ? [patient] it's a nagging feeling and it just depends , sometimes it bothers me , sometimes it does n't . [doctor] has this been the case over the past 2 years as well ? [patient] more recently in the past couple of months at least with the constipation and diarrhea . [doctor] and before that , how were your bowel movements ? [patient] they were normal . [doctor] okay , so any blood in your stool ? [patient] nope . [doctor] do you feel like you have more constipation or diarrhea ? [patient] probably more constipation . [doctor] okay , so when you're constipated , do you not have a bowel movement or is the stool hard ? [patient] i usually do n't go , but when i do , it's hard . [doctor] and how often do you have a bowel movement when you are constipated ? [patient] about 3-4 times a week it's like when i need to go to the bathroom if i can massage it , it feels like it's moving some and i can eventually go . [doctor] okay and when you have a bowel movement , does the pain change ? [patient] yeah . it gets a little better . [doctor] and are you eating and drinking okay , any nausea or vomiting , heartburn or indigestion ? [patient] none of that . [doctor] okay , so tell me about the diarrhea . how often do you get it ? [patient] it kinda just depends on what i eat . i think i have a very sensitive stomach if i eat pasta with a creamy sauce i'm probably gon na have diarrhea . [doctor] okay and does it happen for multiple days in a row or is it just one time ? [patient] it's usually just one time and then it's over . [doctor] and how has your weight been , any fluctuation ? [patient] no , it's been pretty stable , although i could stand to lose about 25 pounds . [doctor] okay , and is there any family history of gi issues that you know of ? [patient] not that i can think of . well , actually my sister does have problems with her stomach too . she has irritable bowel syndrome and that is kind of what i always thought i had even though i have never been diagnosed with it . [doctor] okay and is there any family history of gi cancer or liver disease ? [patient] no . [doctor] have you ever had any surgeries on your abdomen ? [patient] i have never had any surgery . [doctor] okay , so your gallbladder , appendix , all of those are still intact ? [patient] yep . [doctor] and have you ever had a colonoscopy ? [patient] no . i thought that happened when you turned 50 . [doctor] well that's for colon cancer screening , but there are other reasons to have a colonoscopy like unexplained abdominal pain and changes in bowel habits . [patient] okay . [doctor] well , come have a seat here and lay back so i can examine you . [patient] okay . [doctor] i'm gon na start by listening to your belly with my stethoscope . [patient] okay . [doctor] and i hear bowel sounds in all four quadrants . [patient] what does that mean , is everything okay ? [doctor] it just means that i can hear little noises in all areas of your belly , which means your bowels are active and working . [patient] okay , good . [doctor] so now i'm going to push on your upper and lower abdomen , let me know if you have any pain . [patient] it hurts a little when you push right there on the left side near my belly button . [doctor] okay , i do feel stool in your lower colon which would coincide with constipation but i also feel a slight enlargement of your liver here on the upper right side . have you had any lab work done recently ? [patient] yes . i had a physical about 4 months ago and they i had blood drawn then . [doctor] okay and did your primary care physician say anything about the lab results ? [patient] he said i had some very slightly elevated liver enzymes but we would recheck them in about 6 months . [doctor] and do you remember what enzymes were elevated , alt , ast , alp ? [patient] he said the alt and the ast were elevated . [doctor] and do you take any medications either prescription or over the counter ? [patient] i take crestor and , and olmesartan daily and then tylenol for occasional , occasional pain . [doctor] and how frequently do you take the tylenol ? [patient] hardly ever , maybe once a month . [doctor] and do you consume alcohol ? [patient] yes , but only a couple of beers after working in the yard on saturdays . [doctor] okay and no previous history of heavy alcohol or drug use ? [patient] no . [doctor] and have you had any recent issues with excessive bruising or bleeding ? [patient] nope . [doctor] and how about any issues with your ankles or feet swelling ? [patient] no . [doctor] okay , i'm gon na take a look at your eyes and skin . i do n't see any jaundice . [patient] what would cause that ? [doctor] issues with your liver . let me take a quick listen to your heart and lungs . [patient] okay . [doctor] lungs are clear bilateral . heart sounds are normal . no murmurs , gallops , or rubs noted . [patient] that's good . [doctor] yes , the rest of your physical exam is normal other than what seems to be an increased stool burden in your colon and a slight hepatomegaly . [patient] what's that ? [doctor] increased stool burden means that there is a lot of stool sitting in your colon . [patient] and that's the constipation , right ? but what about the other thing ? [doctor] the hepatomegaly means the liver is enlarged . [patient] but you said mom was slightly enlarged . [doctor] correct . [patient] so what does that mean ? [doctor] well , let's talk about what we found and then some possible next steps if you're in agreement . [patient] okay . [doctor] so as i said , the hepatomegaly means your liver is enlarged . [patient] could that be why my stomach is hurting and i'm having issues with the constipation and diarrhea ? [doctor] no , i think you're constipated and have occasional bouts of diarrhea because of certain foods you eat and we can get you started right away on a fiber supplement that should help with that . [patient] so what about my liver , why is it enlarged ? [doctor] well , there are many reasons why people can have an elevated liver enzymes and also an enlarged liver . some possible causes are certain medications that can be toxic to the liver . alcohol abuse , fatty liver disease , hepatitis , cirrhosis , and other liver diseases like wilson's disease . [patient] so what do i need to do ? [doctor] well , i think since it's been about 4 months since your blood work was done , we should check your liver enzymes in addition to a few other labs . [patient] okay and then what ? [doctor] we will get those drawn today and then depending upon the results , you may need an ultrasound of your liver . i think we need to talk about your medications too . [patient] which medications ? [doctor] crestor , how long have you been taking that ? [patient] about 18 months . [doctor] okay , well crestor is one of the medications that can cause liver toxicity , so it may be a good idea to discuss other alternatives . [patient] should i talk to my primary care or can you change it ? [doctor] i would recommend calling your primary care and discuss that with him since he follows you for your blood pressure and cholesterol . [patient] okay . i'll call him this afternoon . [doctor] great . i also think we should go ahead and get you scheduled for a liver ultrasound . if your blood work looks good , then we can always cancel that . [patient] okay . when do you think i'll be able to get the ultrasound done ? [doctor] hopefully within the next 2 weeks , you will receive a call from the radiology scheduling this afternoon to get it set up . [patient] okay and then what happens ? [doctor] when i get the results from the tests , i'll contact you and depending upon what we find , we'll come up with our next steps . [patient] and when should i see you again ? [doctor] let's schedule an appointment when you check out to return in 4 weeks . we'll discuss how you're doing with the fiber supplement and your constipation and review test results to determine if we need to do further testing on your liver . [patient] okay . is there anything else i can do to help with these issues ? [doctor] definitely refrain from drinking any alcohol , increase your water intake to at least 48 ounces a day , in addition to taking the fiber supplement to help with your constipation and be mindful of eating foods that you are sensitive to so you can avoid the bouts of diarrhea . [patient] okay and i will talk to my primary care about my crestor . [doctor] excellent and do you have any other questions for me ? [patient] i do n't think so . [doctor] great . so remember when you check out at the front desk , schedule a follow-up appointment with me for 4 weeks and then go to the lab to get your blood work drawn . [patient] okay , sounds good . [doctor] and expect a call from radiology scheduling about setting up your ultrasound . [patient] alright . thanks dr. edwards . [doctor] thank you mr. allen .\n"
     ]
    }
   ],
   "source": [
    "print(train_extended_df.iloc[2]['dialogue'])"
   ]
  },
  {
   "cell_type": "code",
   "execution_count": 59,
   "metadata": {
    "scrolled": true
   },
   "outputs": [
    {
     "name": "stdout",
     "output_type": "stream",
     "text": [
      "CHIEF COMPLAINT\n",
      "\n",
      "Hypothyroidism.\n",
      "Abnormal liver enzymes.\n",
      "Abnormal weight gain.\n",
      "Acne vulgaris.\n",
      "\n",
      "HISTORY OF PRESENT ILLNESS\n",
      "\n",
      "Christine Hernandez is a 39-year-old female who presents today for evaluation and management of abnormal liver enzymes and hypothyroidism.\n",
      "\n",
      "When the patient was last seen, her thyroid medicine was changed to Unithroid, but due to the cost of $75, she has not yet started the new medicine and continues taking her previous thyroid medicine. She denies utilizing the coupon that was previously recommended for the Unithroid. Similarly, the patient was prescribed Epiduo for her acne vulgaris, which she did not fill due to the cost of $100. She tried filling both prescriptions at Walmart.\n",
      "\n",
      "Mrs. Hernandez still presents with abnormal weight gain. She questioned if her oral contraceptive Microgestin, which was discontinued, could have been the cause. Additional symptoms included acne, hirsutism. She is attempting to modify her intake and plans to resume her gym membership in July as she will be on vacation. She inquired about the impact on weight loss of chromium, CLA, and amino acids.\n",
      "\n",
      "The patient confirmed that she is taking her high dose Vitamin D as prescribed. She does suffer from constipation and she treats with MiraLAX.\n",
      "\n",
      "She denies previous treatment for her acne vulgaris. She denies ever using clindamycin topical antibiotic. She reports having sensitive skin, developing rashes with various skin products.\n",
      "\n",
      "PAST HISTORY\n",
      "\n",
      "Medical\n",
      "Hypothyroidism.\n",
      "Acne Vulgaris.\n",
      "Vitamin D deficiency.\n",
      "Abnormal weight gain.\n",
      "Hirsutism.\n",
      "Constipation.\n",
      "\n",
      "CURRENT MEDICATIONS\n",
      "\n",
      "Benzoyl Peroxide.\n",
      "Clindamycin Gel applied topically.\n",
      "Vitamin D 2000 IU daily.\n",
      "Unithroid.\n",
      "MiraLAX.\n",
      "\n",
      "ALLERGIES\n",
      "\n",
      "No known allergies.\n",
      "\n",
      "RESULTS\n",
      "\n",
      "Dexamethasone Suppression Test: Normal.\n",
      "\n",
      "Salivary Cortisol Tests: 2 out of 3 were normal. Not consistent with Cushing’s Syndrome.\n",
      "\n",
      "Hepatic Function Panel: ALT 128.\n",
      "Lipid Panel: Total cholesterol 222 mg/dL, HDL 44 mg/dL, LDL 153 mg/dL, non-HDL 178 mg/dL.\n",
      "\n",
      "FAI: Normal.\n",
      "\n",
      "ASSESSMENT\n",
      "\n",
      "• Hypothyroidism.\n",
      "• Abnormal liver enzymes.\n",
      "• Abnormal weight gain.\n",
      "• Acne vulgaris\n",
      "• Vitamin D deficiency.\n",
      "• Hirsutism\n",
      "\n",
      "PLAN\n",
      "\n",
      "Hypothyroidism\n",
      "The patient will again attempt to initiate Unithroid. I have printed out the prescription and a discount card, which should result in a reduced price. She will contact my office if she encounters additional issues.\n",
      "\n",
      "Abnormal liver enzymes\n",
      "We have seen improvement since the discontinuation of Microgestin. I recommended the spermicide Phexxi for alternative birth control. The patient will also continue working on weight loss, which should additionally improve her liver enzymes.\n",
      "\n",
      "Abnormal weight gain\n",
      "Cushing’s Syndrome has been ruled out. I reviewed the weight loss study with the patient, she will call within a month if she is interested in participating. I advised her to follow a low carbohydrate, low cholesterol, abstain from alcohol, and reduce fatty foods diet.\n",
      "\n",
      "Acne vulgaris\n",
      "Epiduo was not covered and too expensive. The patient will try benzoyl peroxide and Clindamycin separately to see if the price improves.\n",
      "\n",
      "Vitamin D deficiency\n",
      "The patient will complete the high dose vitamin D and then should start vitamin D 2000 IU per day to maintain her levels.\n",
      "\n",
      "Hirsutism\n",
      "Her androgen levels were normal.\n",
      "\n",
      "INSTRUCTIONS\n",
      "\n",
      "She will repeat all labs prior to her next visit.\n",
      "\n"
     ]
    }
   ],
   "source": [
    "print(train_extended_df.iloc[0]['note'])"
   ]
  },
  {
   "cell_type": "code",
   "execution_count": 67,
   "metadata": {
    "scrolled": true
   },
   "outputs": [
    {
     "name": "stdout",
     "output_type": "stream",
     "text": [
      "[doctor] hey george how are you today i understand you're here for some numbness and tingling in your fingers and some pain in your wrist\n",
      "[patient] right my left wrist and hand has been bothering me probably for a few months now with pain and numbness\n",
      "[doctor] okay and you said that's been ongoing for several months do you know what caused this type of pain or is it just something that started slowly or\n",
      "[patient] it just kinda started on it's own it i notice it mostly at night\n",
      "[doctor] okay\n",
      "[patient] sometimes it will i'll wake up and my hands asleep and i got ta shake it out\n",
      "[doctor] shake it out and okay\n",
      "[patient] and then some\n",
      "[doctor] what kind of work do you do\n",
      "[patient] i do yard work\n",
      "[doctor] yard work\n",
      "[patient] landscaping landscaping\n",
      "[doctor] landscaping okay so a lot of raking a lot of digging so a lot of repetitive type movements\n",
      "[patient] yeah it's pretty heavy labor but it's yeah the same thing day in and day out\n",
      "[doctor] okay okay just a couple questions for you you did say that you have the pain at night in that and you have to you get that numbness into the hand is it in all the fingers\n",
      "[patient] yeah it seems to happen to all my fingers but i notice it more in my thumb and pointer finger\n",
      "[doctor] okay okay and anything into that little into your fifth finger your little finger any numbness there at times no\n",
      "[patient] sometimes yeah it seems like it's numb too\n",
      "[doctor] okay what about your right hand any problems with that hand\n",
      "[patient] no i do n't seem to have any problems with my right hand so far it's just mostly my left\n",
      "[doctor] okay okay good and just a couple you know do you how do you have many or do you drink often do you have you know many any alcohol consumption\n",
      "[patient] i drink usually a a beer or two on fridays and saturdays on the weekends\n",
      "[doctor] okay and do you have any evidence of any anybody ever said that you had some rheumatoid arthritis in your hand or wrist anything like that\n",
      "[patient] no nobody say anything like that so i mean\n",
      "[doctor] okay okay good so let me go ahead and do a physical exam here real quick and you know i'm gon na quickly just listen to your heart and lungs okay that's good i'd like you to squeeze i'm gon na hold your hands here and i'd like you to squeeze both hands\n",
      "[patient] okay\n",
      "[doctor] you seem a little bit weaker on that left hand is that what you've noticed\n",
      "[patient] yeah i i i experienced some weakness in my left hand\n",
      "[doctor] okay do you you find that you're dropping things when you're picking it up is it to that level or\n",
      "[patient] yeah i drop things mostly because i have a hard time feeling it\n",
      "[doctor] okay okay good and so you you do have a a grip strength is less on the left and i just wan na touch your fingers here on the on the right side you can feel me touching all the fingers on the right\n",
      "[patient] yeah i can i can say you touch me but it feels a little more weird on the thumb side than my pointer finger side\n",
      "[doctor] okay okay and i wan na turn your wrist over here and turn your hand over and i'm gon na go ahead and tap on the right wrist on the back here does that do anything when i do that\n",
      "[patient] i still i feel a little jolt or a zing in my finger tips\n",
      "[doctor] okay and then when i do that on the left side\n",
      "[patient] yeah same thing\n",
      "[doctor] same thing okay so you do have a bilateral positive tinel's sign so so here's here's where i'm at i think your your diagnosis is beginning to have some bilateral carpal tunnel syndrome usually we see that with repetitive actions such as the landscaping the heavy labor and you you know your your clinical exam and and history sound like it's a carpal tunnel syndrome i do want to order so where are we gon na go from here i would like to order a a study it's called an emg where it it measures some of that electrical impulses down into your fingers we will follow up with that but as far as your treatment so the treatment for carpal tunnel syndrome is really some activity modification now i know you are a landscaper is there any way that you could be work to have some lighter work during the time\n",
      "[patient] i suppose i could try to pass it off to some of my other employes and delegate\n",
      "[doctor] okay that would be good so that's i i just want you to kinda eliminate that the active repetitive motions that you're doing all the time just for a couple weeks i'm also gon na give you a wrist splint to wear and that should help and i'd like you to take ibuprofen six hundred milligrams every six hours and then i wan na see you back here in the office in two weeks and in that two week period i think we're gon na see if there's need for any other intervention if i need to do more diagnostic testing or if there is a possibly looking at a surgical intervention to release that pressure that's on the nerves in that hand does that sound like a a good plan for you\n",
      "[patient] yeah it sounds like a good first start\n",
      "[doctor] okay okay so i i just just off off the record here what kind of what do what do you specialize in landscaping is your company do\n",
      "[patient] mostly like yard work and maintenance flower beds not really designing just up keep\n",
      "[doctor] okay yeah i'm looking for a landscape designer i need somebody to put in some elaborate walkways back through the backyard so yeah we can do stuff like that i mean if you have an idea what you want i think that's easy\n",
      "[patient] okay\n",
      "[doctor] you know if you're looking for like some\n",
      "[patient] backyard elasis rehab remodel that's i mean i suppose we could do we have n't done things like that in a while because we're busy enough with just the up key but it's something to explore\n",
      "[doctor] okay yeah i may have to keep that in mind because i do wan na do some of that so let's listen i'm gon na get my my nurse in here to discharge you do you have any other questions for me before we end this\n",
      "[patient] no i think it's all clear i appreciate it\n",
      "[doctor] okay take care and i'll look forward to see you in two weeks\n",
      "[patient] very good appreciate your time\n"
     ]
    }
   ],
   "source": [
    "print(train_extended_df1.iloc[0]['dialogue'])"
   ]
  },
  {
   "cell_type": "code",
   "execution_count": 69,
   "metadata": {
    "scrolled": true
   },
   "outputs": [
    {
     "name": "stdout",
     "output_type": "stream",
     "text": [
      "CHIEF COMPLAINT\n",
      "\n",
      "Left wrist and hand pain.\n",
      "\n",
      "HISTORY OF PRESENT ILLNESS\n",
      "\n",
      "George Lewis is a pleasant 57-year-old male who presents to the clinic today for evaluation of left wrist and hand pain. He reports an onset of a few months ago but denies any specific injury. However, the patient notes he often engages in repetitive motions while performing his work duties. His symptoms are worse at night, and he wakes with numbness in the bilateral hands. He experiences numbness in all fingers, but states it is the most noticeable in the left thumb and index finger. He affirms intermittent numbness in the left little finger. For relief, he shakes his hands upon waking. The patient also experiences weakness in his left hand. He reports he drops objects and explains “I have a hard time feeling it.”\n",
      "\n",
      "MEDICAL HISTORY\n",
      "\n",
      "The patient denies a history of rheumatoid arthritis.\n",
      "\n",
      "SOCIAL HISTORY\n",
      "\n",
      "He works in landscaping. He reports consuming 1 to 2 beers on weekends.\n",
      "\n",
      "REVIEW OF SYSTEMS\n",
      "\n",
      "Musculoskeletal: Reports left wrist and hand pain. Denies right hand pain.\n",
      "Neurological: Reports numbness in bilateral hands and fingers, and left hand weakness.\n",
      "\n",
      "PHYSICAL EXAM\n",
      "\n",
      "NEURO: Decreased sensation in the right thumb and index finger.\n",
      "MSK: Examination of the bilateral hands: Grip strength is less on the left in comparison to the right. Positive Tinel sign bilaterally.\n",
      "\n",
      "ASSESSMENT\n",
      "\n",
      "Bilateral carpal tunnel syndrome.\n",
      "\n",
      "PLAN\n",
      "\n",
      "After reviewing the patient's clinical history and examination today, I have had a lengthy discussion with him regarding treatment options for his current symptoms. I discussed the importance of activity modification and encouraged the patient to limit active repetitive motions while working for the next 2 weeks. I also recommended that he wear a wrist splint to provide increased support. I advised him to take ibuprofen 600 mg every 6 hours. Additionally, I recommended we obtain an EMG of the bilateral upper extremities to evaluate for carpal tunnel syndrome. The patient will follow up with me in 2 weeks when the EMG results are available for review. If at that time his symptoms have not improved with these conservative measures, we will discuss further treatment options including additional diagnostic testing or possible surgical intervention.\n",
      "\n",
      "The patient states he understands and is in agreement with the plan. All questions were answered to the patient's satisfaction.\n",
      "\n",
      "INSTRUCTIONS\n",
      "\n",
      "The patient will follow up with me in 2 weeks.\n"
     ]
    }
   ],
   "source": [
    "print(train_extended_df1.iloc[0]['note'])"
   ]
  },
  {
   "cell_type": "code",
   "execution_count": 77,
   "metadata": {
    "scrolled": true
   },
   "outputs": [
    {
     "name": "stdout",
     "output_type": "stream",
     "text": [
      "CHIEF COMPLAINT\n",
      "\n",
      "Follow-up of chronic problems.\n",
      "\n",
      "HISTORY OF PRESENT ILLNESS\n",
      "\n",
      "Brian White is a 58-year-old male with a past medical history significant for congestive heart failure and hypertension, who presents today for follow-up of his chronic problems.\n",
      "\n",
      "The patient states he has been feeling out of sorts lately. He is not sure if it is due to the change in the seasons or due to performing lots of projects and some construction on his home. He reports fatigue and lightheadedness. This has been going on for about 5 weeks. While exerting energy, he has experienced some shortness of breath and chest cramps. The patient also notes a slight cough, but he is not sure if it is just the change in seasons.\n",
      "\n",
      "He feels bloated every once in a while. His diet has been a little bit of a struggle. They had construction on their kitchen begin over Labor Day weekend, and have been eating less healthy food as a result.\n",
      "\n",
      "Regarding his heart failure, he has been pretty good with his salt intake. He has been pretty good about his diet since the last year and is staying on top of that as much as possible. The patient has continued to utilize Lasix daily.\n",
      "\n",
      "For his hypertension, this has been well controlled with lisinopril 20 mg a day. He has continued to monitor his blood pressure regularly.\n",
      "\n",
      "The patient did the review of systems sheet when he checked in. He denies weight gain, swelling in the lower extremities, fevers, chills, dizziness, nausea, vomiting, and diarrhea.\n",
      "\n",
      "REVIEW OF SYSTEMS\n",
      "\n",
      "• Constitutional: Endorses fatigue. Denies fevers, chills, or weight loss.\n",
      "• Cardiovascular: Endorses chest pain or dyspnea on exertion.\n",
      "• Respiratory: Endorses cough and shortness of breath.\n",
      "• Gastrointestinal: Endorses bloating.\n",
      "\n",
      "PHYSICAL EXAMINATION\n",
      "\n",
      "• Neck: JVD 8 cm.\n",
      "• Respiratory: Rales bilateral bases.\n",
      "• Cardiovascular: 3/6 systolic ejection murmur.\n",
      "• Musculoskeletal: 1+ pitting edema bilateral lower extremities.\n",
      "\n",
      "RESULTS\n",
      "\n",
      "X-ray of the chest demonstrates a mild amount of fluid in the lungs.\n",
      "\n",
      "Echocardiogram demonstrates decreased ejection fraction of 45% and mild mitral regurgitation.\n",
      "\n",
      "ASSESSMENT AND PLAN\n",
      "\n",
      "Brian White is a 58-year-old male with a past medical history significant for congestive heart failure and hypertension, who presents today for follow up of his chronic problems.\n",
      "\n",
      "Congestive heart failure.\n",
      "• Medical Reasoning: The patient reports increased fatigue, dizziness, and chest discomfort on exertion. He also exhibits some jugular venous distention, lung base crackles, and lower extremity edema on exam today. He has been compliant with his current medications but admits to dietary indiscretion lately. His recent echocardiogram demonstrated a reduced ejection fraction of 45%, as well as mitral regurgitation.\n",
      "• Additional Testing: We will order a repeat echocardiogram.\n",
      "• Medical Treatment: Increase Lasix to 80 mg daily.\n",
      "• Patient Education and Counseling: I advised the patient to monitor and record his daily weight and report those to me via the patient portal. He will contact me should he continue to experience any dyspnea.\n",
      "\n",
      "Hypertension.\n",
      "• Medical Reasoning: This is well controlled based on home monitoring.\n",
      "• Medical Treatment: Continue lisinopril 20 mg daily.\n",
      "• Patient Education and Counseling: I advised him to monitor and record his blood pressures at home and report these to me via the patient portal.\n",
      "\n",
      "Patient Agreements: The patient understands and agrees with the recommended medical treatment plan.\n"
     ]
    }
   ],
   "source": [
    "valid_df = pd.read_csv(data_path + \"challenge_data\\\\valid.csv\")\n",
    "\n",
    "print(valid_df.iloc[0]['note'])"
   ]
  },
  {
   "cell_type": "code",
   "execution_count": 85,
   "metadata": {},
   "outputs": [
    {
     "data": {
      "text/plain": [
       "(20, 4)"
      ]
     },
     "execution_count": 85,
     "metadata": {},
     "output_type": "execute_result"
    }
   ],
   "source": [
    "valid_df.shape"
   ]
  },
  {
   "cell_type": "code",
   "execution_count": 83,
   "metadata": {
    "scrolled": true
   },
   "outputs": [
    {
     "name": "stdout",
     "output_type": "stream",
     "text": [
      "[doctor] hi , andrew . how are you ?\n",
      "[patient] hey , good to see you .\n",
      "[doctor] i'm doing well , i'm doing well .\n",
      "[patient] good .\n",
      "[doctor] so , i know the nurse told you about dax . i'd like to tell dax a little bit about you .\n",
      "[patient] sure .\n",
      "[doctor] uh , so , andrew is a 59-year-old male with a past medical history , significant for depression , type two diabetes , and hypertension who presents today with an upper respiratory infection . so , andrew , what's going on ?\n",
      "[patient] yeah . we were doing a bit of work out in the yard in the last week or so and i started to feel really tired , was short of breath . um , we- we're not wearing masks as much at the end of the summer and i think i caught my first cold and i think it just got worse .\n",
      "[doctor] okay . all right . um , now , have you had your covid vaccines ?\n",
      "[patient] yeah , both .\n",
      "[doctor] okay . all right . and , um , do you have any history of any seasonal allergies at all ?\n",
      "[patient] none whatsoever .\n",
      "[doctor] okay . all right . and when you say you're having some shortness of breath , did you feel short of breath walking around or at rest ?\n",
      "[patient] uh , usually , it was lifting or carrying something . we were doing some landscaping , so i was carrying some heavy bags of soil and i , i got really winded . it really surprised me .\n",
      "[doctor] okay . and are you coughing up anything ?\n",
      "[patient] not yet , but i feel like that's next .\n",
      "[doctor] okay . and fevers ?\n",
      "[patient] uh , i felt a little warm , but i , i just thought it was because i was exerting myself .\n",
      "[doctor] okay . all right . and any other symptoms like muscle aches , joint pain , fatigue ?\n",
      "[patient] my elbows hurt quite a bit and my knees were pretty tired . l- like i said , i really felt some tension around my knees , but , uh , i think that was a lot to do with , uh , lifting the bags .\n",
      "[doctor] okay . all right . um , so , you know , how about , how are you doing in terms of your other medical problems , like your depression ? how are you doing with that ? i know we've , you know , talked about not putting you on medication for it because you're on medication for other things . what's going on ?\n",
      "[patient] i- it's been kind of a crazy year and a half . i was a little concerned about that but , for the most part , i've been , been doing well with it . my , my wife got me into barre classes , to help me relax and i think it's working .\n",
      "[doctor] okay . all right , great . and , and in terms of your diabetes , how are you doing watching your , your diet and your sugar intake ?\n",
      "[patient] uh , i've been monitoring my sugar levels while i am going to work during the week . uh , not so , uh , if its saturday or sunday i usually don't remember . uh , the diet's been pretty good for the most part , except for , you know , some house parties and things like that . but , uh , been good for the most part .\n",
      "[doctor] okay and have they been elevated at all since this episode of your-\n",
      "[patient] no .\n",
      "[doctor] okay . and then , how , lastly , for your high blood pressure , have you been monitoring your blood pressures at home ? did you buy the cuff like i suggested ?\n",
      "[patient] uh , same thing . during the while i'm going to work, i'm regular about monitoring it, but if its a saturday or sunday, not so much . but , uh , it's , it's been under control .\n",
      "[doctor] but you're taking your medication ?\n",
      "[patient] yes .\n",
      "[doctor] okay . all right . well , you know , i know that , you know , you've endorsed , you know , the shortness of breath and some joint pain . um , how about any other symptoms ? nausea or vomiting ? diarrhea ?\n",
      "[patient] no .\n",
      "[doctor] anything like that ?\n",
      "[patient] no .\n",
      "[doctor] okay . all right . well , i wan na go ahead and do a quick physical exam , all right ? hey , dragon , show me the vital signs . so , your vital signs here in the office look quite good .\n",
      "[patient] mm-hmm .\n",
      "[doctor] you know , everything's looking normal , you do n't have a fever , which is really good . um , i'm just gon na go ahead and listen to your heart and your lungs and , kind of , i'll let you know what i hear , okay ?\n",
      "[patient] sure .\n",
      "[doctor] okay . so , on your physical exam , you know , your heart sounds nice and strong . your lungs , you do have scattered ronchi bilaterally on your lung exam . uh , it clears with cough . um , i do notice a little bit of , um , some edema of your lower extremities and you do have some pain to palpation of your elbows bilaterally . um , so , let's go ahead , i want to look at some of your results , okay ?\n",
      "[patient] mm-hmm .\n",
      "[doctor] hey , dragon . show me the chest x-ray .\n",
      "[doctor] so , i reviewed the results of your chest x-ray and everything looks good . there's no airspace disease , there's no pneumonia , so that's all very , very good , okay ?\n",
      "[patient] good .\n",
      "[doctor] hey , dragon . show me the diabetic labs .\n",
      "[doctor] and here , looking at your diabetic labs , you know , your hemoglobin a1c is a little elevated at eight .\n",
      "[patient] mm-hmm .\n",
      "[doctor] i'd like to see that a little bit better , around six or seven , if possible .\n",
      "[patient] mm-hmm .\n",
      "[doctor] um , so let's talk a little bit about my assessment and my plan for you .\n",
      "[patient] mm-hmm .\n",
      "[doctor] so , for your first problem , this upper respiratory infection , i believe you , you have a viral syndrome , okay ? we'll go ahead and we'll send a covid test , just to make sure that you do n't have covid .\n",
      "[patient] mm-hmm .\n",
      "[doctor] uh , but overall , i think that , um , you know , this will resolve in a couple of days . i do n't think you have covid , you do n't have any exposures , that type of thing .\n",
      "[patient] mm-hmm .\n",
      "[doctor] so , i think that this will improve . i'll give you some robitussin for your cough and i would encourage you take some ibuprofen , tylenol for any fever , okay ?\n",
      "[patient] you got it .\n",
      "[doctor] for your next problem , your depression , you know , it sounds like you're doing well with that , but again , i'm happy to start on a med- , a medical regiment or ...\n",
      "[patient] mm-hmm .\n",
      "[doctor] . refer you to psychotherapy , if you think that that would be helpful .\n",
      "[patient] mm-hmm .\n",
      "[doctor] would you like that ?\n",
      "[patient] u- u- um , maybe not necessarily . maybe in a , uh , few months we'll check on that .\n",
      "[doctor] okay . all right .\n",
      "[doctor] for your third problem , your type two diabetes , i want to go ahead and increase your metformin to 1000 milligrams , twice daily .\n",
      "[patient] mm-hmm .\n",
      "[doctor] and i'm gon na get an- another hemoglobin a1c in four months , okay ?\n",
      "[patient] okay , sure .\n",
      "[doctor] hey , dragon . order a hemoglobin a1c .\n",
      "[doctor] and lastly , for your high blood pressure , it looks like you're doing a really good job managing that . i want to go ahead and continue you on the , um , lisinopril , 20 milligrams a day .\n",
      "[patient] mm-hmm .\n",
      "[doctor] and i'm gon na go ahead and order a lipid panel , okay ?\n",
      "[patient] sure .\n",
      "[doctor] do you need a refill of the lisinopril ?\n",
      "[patient] actually , i do .\n",
      "[doctor] okay . hey , dragon . order lisinopril , 20 milligrams daily .\n",
      "[doctor] so , the nurse will be in , she'll help you , uh , make a follow-up appointment with me . i want to see you again in about four months .\n",
      "[patient] okay .\n",
      "[doctor] let me know if your symptoms worsen and we can talk more about it , okay ?\n",
      "[patient] you got it .\n",
      "[doctor] all right . hey , dragon . finalize the note .\n"
     ]
    }
   ],
   "source": [
    "test_df = pd.read_csv(data_path + \"challenge_data\\\\clinicalnlp_taskB_test1.csv\")\n",
    "\n",
    "print(test_df.iloc[0]['dialogue'])"
   ]
  },
  {
   "cell_type": "code",
   "execution_count": 23,
   "metadata": {},
   "outputs": [],
   "source": [
    "import os\n",
    "import pandas as pd\n",
    "\n",
    "def load_and_print_csv_files(directory):\n",
    "    # Iterate through all files in the given directory\n",
    "    for filename in os.listdir(directory):\n",
    "        # Check if the file is a CSV file and does not contain 'metadata' in the filename\n",
    "        if filename.endswith('.csv') and 'metadata' not in filename.lower():\n",
    "            file_path = os.path.join(directory, filename)\n",
    "            \n",
    "            try:\n",
    "                # Load the CSV file using pandas\n",
    "                df = pd.read_csv(file_path)\n",
    "                \n",
    "                # Print the filename, shape of the dataframe, and the columns (features)\n",
    "                print(f\"Filename: {filename}\")\n",
    "                print(f\"Shape: {df.shape}\")\n",
    "                print(f\"Features: {df.columns.tolist()}\")\n",
    "                print(\"-\" * 50)\n",
    "            except Exception as e:\n",
    "                print(f\"Failed to load {filename}. Error: {e}\")"
   ]
  },
  {
   "cell_type": "code",
   "execution_count": 29,
   "metadata": {},
   "outputs": [],
   "source": [
    "def print_info(path):\n",
    "    df = pd.read_csv(data_path + path)\n",
    "    \n",
    "    print(df.iloc[0]['dialogue'])\n",
    "    print(df.iloc[0]['note'])"
   ]
  },
  {
   "cell_type": "code",
   "execution_count": 43,
   "metadata": {},
   "outputs": [
    {
     "name": "stdout",
     "output_type": "stream",
     "text": [
      "[doctor] hi , carolyn . how are you ?\n",
      "[patient] good . how are you ?\n",
      "[doctor] i'm good . you're ready to get started ?\n",
      "[patient] yes , i am .\n",
      "[doctor] so carolyn is a 49-year-old female here for follow-up of her chronic problems . so , how are you doing , carolyn ?\n",
      "[patient] i'm doing okay . um , my osteoarthritis has been flaring up a little bit lately , um , so i wan na get- talk about that primarily . so , it's mostly in um , my elbows and it's really been bothering me . i've been sitting at the computer , at the desk more , um , in the office so i do n't know if it's being stagnant in that position all day has um , increased flare-ups for that , but i wanted to talk to you about that .\n",
      "[doctor] okay , sure . and , are you right or left-handed ?\n",
      "[patient] i'm right-handed .\n",
      "[doctor] okay , and does one elbow bother you more than the other ?\n",
      "[patient] my right elbow does bother me more than the other , but primarily , i'm typing all day versus writing , so it- it flares up in both .\n",
      "[doctor] okay . all right , and um , any other joint pain ?\n",
      "[patient] no , just- just really focused on my elbows .\n",
      "[doctor] okay , and any numbing or tingling in your hands ?\n",
      "[patient] uh , sometimes . when i'm typing for long periods of time , i feel a little bit of numbing , um , i try to shake out my arms a little bit . um , just to kind of relieve that um , sensation .\n",
      "[doctor] okay . all right , and i know that you've had this also , had this history of gout . and the last episode you had was about three months ago . you had some inflammation of your toe . have you had any other issues with that ?\n",
      "[patient] no , i have n't . um , the medication you gave me really controlled it , and i have n't seen a flare-up since .\n",
      "[doctor] okay . all right , and how are you doing with your psoriasis ?\n",
      "[patient] that's been under control too . that has n't been a- a major problem for me either .\n",
      "[doctor] okay . i- i know that we had given you some clobetasol for your scalp . is that- so that's doing okay ?\n",
      "[patient] yeah , that's doing a lot better .\n",
      "[doctor] okay , great . um , all right , well , i'd like to go ahead and do a physical exam on you .\n",
      "[patient] okay .\n",
      "[doctor] let's first look at your vital signs . hey , dragon , show me the vital signs . great , so everything looks good from that perspective . um , so looking at you , i do n't appreciate any cervical lymphadenopathy . your heart is a nice regular rate and rhythm , and your lungs sound really clear . on your right elbow , you do have some edema and inflammation of your right olecranon and there's some tenderness and an effusion right there . so um , does that hurt when i press it ?\n",
      "[patient] yeah , that does hurt .\n",
      "[doctor] okay , and when i turn your arm , do you have pain ?\n",
      "[patient] yeah , that hurts a bit too .\n",
      "[doctor] okay , so she has pain- to palpation of the olecranon bursa and pain with pronation and supination . and when you flex- and when you bend it and straighten it , does that hurt ?\n",
      "[patient] yeah , it does and it's a bit stiff too .\n",
      "[doctor] okay , so pain with flexion and extension of the right arm . uh , your abdomen is nice and soft , and there's no lower extremity edema . uh , let's go ahead and take a look at some of your labs . you know , you have a lot of arthritis for someone so young , so we had sent off that autoimmune panel . hey , dragon . show me the autoimmune labs . hey , dragon . show me the autoimmune profile . hey , dragon . show me the esr . okay , so that's good . hey , dragon . show me the uric acid . okay . all right , well , good . that's great . so , you know , it does n't look like you have any systemic arthritis , or sys- systemic inflammatory in process going on . so , my impression of you at this time is that from a gout standpoint , everything is nice and stable . i think that we should continue you on the colchicine 0.6 milligrams twice a day as needed for flare-ups of your gout . um , and then for your osteoarthritis , i'd like to go ahead and order a right elbow x-ray . hey , dragon . order a right elbow x-ray , and then i'd like to prescribe some meloxicam 15 milligrams once a day for the pain and the swelling .\n",
      "[patient] okay .\n",
      "[doctor] hey , dragon . order meloxicam 15 milligrams once a day . and then i'd like to um , just see those- how- the x-ray show- shows up and the results of that before we refer you for any type of physical therapy , okay ?\n",
      "[patient] okay .\n",
      "[doctor] and then from a psoriasis standpoint , i think everything is stable . we'll continue you on the steroid cream for your scalp , okay ?\n",
      "[patient] that sounds good .\n",
      "[doctor] all right , do you have any questions ?\n",
      "[patient] no , that's it .\n",
      "[doctor] all right , take care .\n",
      "[patient] thank you .\n",
      "[doctor] hey , dragon . finalize the note .\n",
      "\n",
      "CHIEF COMPLAINT\n",
      "\n",
      "Follow-up of chronic problem.\n",
      "\n",
      "HISTORY OF PRESENT ILLNESS\n",
      "\n",
      "Ms. Carolyn Garcia is a 49-year-old female who presents to the clinic today for follow-up of her chronic problem.\n",
      "\n",
      "The patient reports her osteoarthritis has been flaring up a little lately, and she would like to talk about that, primarily in her elbows. She states she has been sitting at the computer more in the office, so she is unsure if it is stagnant in that position all day. She notes her right elbow bothers her more than her left elbow, but she is primarily typing all day versus writing. She denies any other joint pain. She notes occasional numbness and tingling in her hands, which she tries to shake out her arms to relieve the numbness.\n",
      "\n",
      "She also has a history of gout. Her last episode was about 3 months ago. She had some inflammation of her toe at that time. She denies any other issues with that. She states the medication she was given at that time helped with her gout and she has not seen a flare up since. She reports her psoriasis is under control and has not been a major problem for her either. She is still on colchicine 0.6 mg twice a day as needed for flare-ups of her gout.\n",
      "\n",
      "REVIEW OF SYSTEMS\n",
      "\n",
      "• Musculoskeletal: Endorses joint pain.\n",
      "• Neurological: Endorses numbness and tingling.\n",
      "\n",
      "PHYSICAL EXAMINATION\n",
      "\n",
      "• Neck: Supple without lymphadenopathy.\n",
      "• Respiratory: Lungs are clear to auscultation bilaterally. No wheezes, rales, or rhonchi.\n",
      "• Cardiovascular: Regular rate and rhythm.\n",
      "• Gastrointestinal: Abdomen is soft.\n",
      "• Musculoskeletal: No edema to the lower extremity. Examination of  the right elbow, there is some edema and inflammation of the right olecranon. Some tenderness to palpation of the olecranon bursa. Pain with pronation and supination. Pain with flexion and extension of the right arm.\n",
      "\n",
      "ASSESSMENT AND PLAN\n",
      "\n",
      "A 49-year-old female here today for followup of chronic problem.\n",
      "\n",
      "1. Gout\n",
      "• Medical Treatment: Continue colchicine 0.6 mg twice a day as needed for flare ups.\n",
      "\n",
      "2. Osteoarthritis\n",
      "• Medical Treatment: We will order a right elbow x-ray. We will prescribe meloxicam 15 mg once a day for pain and swelling.\n",
      "\n",
      "3. Psoriasis\n",
      "• Medical Treatment: Continue steroid cream.\n",
      "\n",
      "Patient Agreements: The patient understands and agrees with the recommended medical treatment plan.\n",
      "\n"
     ]
    }
   ],
   "source": [
    "print_info(\"challenge_data\\\\\"+\"clinicalnlp_taskC_test2.csv\")"
   ]
  },
  {
   "cell_type": "code",
   "execution_count": 25,
   "metadata": {},
   "outputs": [
    {
     "name": "stdout",
     "output_type": "stream",
     "text": [
      "Filename: clef_taskC_test3.csv\n",
      "Shape: (40, 4)\n",
      "Features: ['dataset', 'encounter_id', 'dialogue', 'note']\n",
      "--------------------------------------------------\n",
      "Filename: clinicalnlp_taskB_test1.csv\n",
      "Shape: (40, 4)\n",
      "Features: ['dataset', 'encounter_id', 'dialogue', 'note']\n",
      "--------------------------------------------------\n",
      "Filename: clinicalnlp_taskC_test2.csv\n",
      "Shape: (40, 4)\n",
      "Features: ['dataset', 'encounter_id', 'dialogue', 'note']\n",
      "--------------------------------------------------\n",
      "Filename: train.csv\n",
      "Shape: (67, 4)\n",
      "Features: ['dataset', 'encounter_id', 'dialogue', 'note']\n",
      "--------------------------------------------------\n",
      "Filename: valid.csv\n",
      "Shape: (20, 4)\n",
      "Features: ['dataset', 'encounter_id', 'dialogue', 'note']\n",
      "--------------------------------------------------\n"
     ]
    }
   ],
   "source": [
    "load_and_print_csv_files(data_path + \"challenge_data\")"
   ]
  },
  {
   "cell_type": "code",
   "execution_count": 41,
   "metadata": {},
   "outputs": [
    {
     "name": "stdout",
     "output_type": "stream",
     "text": [
      "[doctor] hey charles i'm using this cool new recording device to help me with my documentation is that okay with you\n",
      "[patient] sure\n",
      "[doctor] awesome how are you doing today\n",
      "[patient] well i could be better you know i moved out in the city\n",
      "[doctor] about two years ago bought this big plot of land\n",
      "[patient] oh\n",
      "[doctor] i love it lots of deer round awesome\n",
      "[patient] you be hunter\n",
      "[doctor] huge hunter i love hunter yeah\n",
      "[patient] i have a refrigerator full of venison at home\n",
      "[doctor] do you\n",
      "[patient] mm-hmm\n",
      "[doctor] you want to carry share sure yeah we can switch\n",
      "[patient] nice but so the thing is i have noticed that for some reason my breathing\n",
      "[doctor] is n't what it used to be\n",
      "[patient] sure\n",
      "[doctor] yeah it's you know i i seem to catch my breath a lot more than i used to and i consider myself to be pretty healthy\n",
      "[patient] you look pretty healthy\n",
      "[doctor] thanks so do you thank you you you're feeling short of breath\n",
      "[patient] yes\n",
      "[doctor] okay is there you know is there any other symptoms that you have with that i get like you know mid shortness of breath suddenly for some reason i'm not quite sure why\n",
      "[patient] hmmm\n",
      "[doctor] eyes they're water does n't make very much sense to me\n",
      "[patient] mm-hmm\n",
      "[doctor] i always think it's allergies\n",
      "[patient] okay\n",
      "[doctor] mostly could be\n",
      "[patient] i have a dog that eyes water like that she always gets eyebugers\n",
      "[doctor] yeah i get eyebugers too\n",
      "[patient] uh\n",
      "[doctor] crazy uh the last time it happened i went to the urgent care and they gave me a nebulizer that helped\n",
      "[patient] they prescribed me an inhaler that i use now when i feel the symptoms coming on\n",
      "[doctor] okay great do you ever notice a rash with any of this\n",
      "[patient] no\n",
      "[doctor] do you have any nausea vomiting\n",
      "[patient] no\n",
      "[doctor] besides when you go out heavy drinking right\n",
      "[patient] i mean i diarrhea quite a bit once i go out\n",
      "[doctor] i understand that\n",
      "[patient] heavy drinking\n",
      "[doctor] yeah do you ever get lip or throat swelling\n",
      "[patient] no\n",
      "[doctor] have you ever had any issues with allergies in the past\n",
      "[patient] no\n",
      "[doctor] hmmm what situations do you notice the symptoms come on when is it when you're near your cat or outside the house\n",
      "[patient] i have noticed them in all three situations\n",
      "[doctor] hmmm\n",
      "[patient] in the house when the cat is n't around and outside as well\n",
      "[doctor] hmmm yeah i'm not a big cat person\n",
      "[patient] no neither\n",
      "[doctor] do you do you have any symptoms now well which is\n",
      "[patient] no\n",
      "[doctor] no no travels and no symptoms right now\n",
      "[patient] mm-hmm\n",
      "[doctor] okay\n",
      "[doctor] okay alright so i'm gon na do a physical exam for you right now your vital signs look good your pulse is okay and yeah your pulse ox is normal so that's good you do n't appear in any distress you may be might be a little bit nervous to come in and see me but looks pretty good i do not appreciate any rash on your body there is no angioedema which is just swelling of your lips like you mentioned no audible stridor which is a bad noise in your airway when it gets swollen so that's good news if you just want to take a deep breath listening to your lungs on your lungs exam i do appreciate some faint expiratory wheezing bilaterally in all lung fields so i know you had a chest x-ray when you came in i'm looking at that chest x-ray right now and your pulmonary function test and they were both normal so let's talk a little bit about what i think is going on for your first problem you have newly diagnosed allergic asthma so i want you to continue the albuterol inhaler i do n't want you to wait until your symptoms flare up or are bad take it as soon as you start to feel any symptoms at all i'm gon na prescribe something else called singulair ten milligrams you might have seen some commercials for it\n",
      "[patient] hmmm\n",
      "[doctor] you take that once daily and that's gon na help decrease the occurrences of your asthma\n",
      "[patient] hmmm\n",
      "[doctor] i also am gon na proceed with allergy testing have you ever had an allergy test before\n",
      "[patient] no\n",
      "[doctor] okay we'll start with skin testing and we'll see if we can target what the triggers in hopes in hopes that we can avoid any any other management and this can be successful if we ca n't figure out what it is from that we'll have to discuss more testing in your blood and do immunotherapy so i wan na see you next week to schedule the skin testing do you have any questions for me\n",
      "[patient] should i come my cats\n",
      "[doctor] yes\n",
      "CHIEF COMPLAINT\n",
      "\n",
      "Shortness of breath.\n",
      "\n",
      "HISTORY OF PRESENT ILLNESS\n",
      "Charles Sullivan is a pleasant 45-year-old male who presents to the clinic today for the evaluation of shortness of breath. The onset of his symptoms began 2 years ago. He has noticed that his breathing is not what it used to be. He describes an increased need to catch his breath. The patient also reports he gets “mid-shortness of breath” without reason. He has been seen at an urgent care where he received a nebulizer treatment and was prescribed an inhaler, which he uses when his symptoms are present. The patient states his symptoms are aggravated by living with a cat in his house and are present even when the cat is not around or is outside. He has experienced epiphora with rheum present that he attributes to allergies. He has had diarrhea after consuming large amounts of alcohol. He denies any symptoms at this time including shortness of breath, rash, nausea, vomiting, and lip or throat swelling. The patient denies any previous issues with allergies.\n",
      "\n",
      "He enjoys hunting.\n",
      "\n",
      "VITALS\n",
      "\n",
      "Oxygen Saturation: Normal on room air.\n",
      "\n",
      "PHYSICAL EXAM\n",
      "\n",
      "CONSTITUTIONAL: In no apparent distress.\n",
      "HEAD: No angioedema.\n",
      "RESPIRATORY: No audible stridor. I do appreciate some faint expiratory wheezing bilaterally in all lung fields.\n",
      "SKIN: No rash.\n",
      "\n",
      "RESULTS\n",
      "\n",
      "A chest x-ray, obtained and reviewed today is normal.\n",
      "Pulmonary function test, obtained and reviewed today is normal.\n",
      "\n",
      "ASSESSMENT\n",
      "\n",
      "Newly diagnosed allergic asthma.\n",
      "\n",
      "PLAN\n",
      "\n",
      "After reviewing the patient's examination, radiographic findings, and pulmonary function test results today, I have had a lengthy discussion with him regarding his current symptoms. He will continue to use the albuterol inhaler; however, he should limit its use to when he is experiencing a severe flare-up of symptoms. I advised he should take it as soon as he starts to feel any symptoms at all. I have also prescribed the patient Singulair 10 mg to be taken once daily. This should help to decrease the occurrences of his asthma. I have also recommended we proceed with an allergy skin test to target what his triggers are in the hope that we can avoid any other management. If we unable to determine his allergens, then we may consider further testing or immunotherapy.\n",
      "\n",
      "INSTRUCTIONS\n",
      "\n",
      "The patient will follow up with me in 1 week for skin testing.\n"
     ]
    }
   ],
   "source": [
    "print_info(\"src_experiment_data\\\\\"+\"test1_aci_asr.csv\")"
   ]
  },
  {
   "cell_type": "code",
   "execution_count": 27,
   "metadata": {},
   "outputs": [
    {
     "name": "stdout",
     "output_type": "stream",
     "text": [
      "Filename: test1_aci_asr.csv\n",
      "Shape: (22, 4)\n",
      "Features: ['dataset', 'id', 'dialogue', 'note']\n",
      "--------------------------------------------------\n",
      "Filename: test1_aci_asrcorr.csv\n",
      "Shape: (22, 4)\n",
      "Features: ['dataset', 'id', 'dialogue', 'note']\n",
      "--------------------------------------------------\n",
      "Filename: test1_virtscribe_asr.csv\n",
      "Shape: (8, 4)\n",
      "Features: ['dataset', 'id', 'dialogue', 'note']\n",
      "--------------------------------------------------\n",
      "Filename: test1_virtscribe_humantrans.csv\n",
      "Shape: (8, 4)\n",
      "Features: ['dataset', 'id', 'dialogue', 'note']\n",
      "--------------------------------------------------\n",
      "Filename: test2_aci_asr.csv\n",
      "Shape: (22, 4)\n",
      "Features: ['dataset', 'id', 'dialogue', 'note']\n",
      "--------------------------------------------------\n",
      "Filename: test2_aci_asrcorr.csv\n",
      "Shape: (22, 4)\n",
      "Features: ['dataset', 'id', 'dialogue', 'note']\n",
      "--------------------------------------------------\n",
      "Filename: test2_virtscribe_asr.csv\n",
      "Shape: (8, 4)\n",
      "Features: ['dataset', 'id', 'dialogue', 'note']\n",
      "--------------------------------------------------\n",
      "Filename: test2_virtscribe_humantrans.csv\n",
      "Shape: (8, 4)\n",
      "Features: ['dataset', 'id', 'dialogue', 'note']\n",
      "--------------------------------------------------\n",
      "Filename: test3_aci_asr.csv\n",
      "Shape: (22, 4)\n",
      "Features: ['dataset', 'id', 'dialogue', 'note']\n",
      "--------------------------------------------------\n",
      "Filename: test3_aci_asrcorr.csv\n",
      "Shape: (22, 4)\n",
      "Features: ['dataset', 'id', 'dialogue', 'note']\n",
      "--------------------------------------------------\n",
      "Filename: test3_virtscribe_asr.csv\n",
      "Shape: (8, 4)\n",
      "Features: ['dataset', 'id', 'dialogue', 'note']\n",
      "--------------------------------------------------\n",
      "Filename: test3_virtscribe_humantrans.csv\n",
      "Shape: (8, 4)\n",
      "Features: ['dataset', 'id', 'dialogue', 'note']\n",
      "--------------------------------------------------\n",
      "Filename: train_aci_asrcorr.csv\n",
      "Shape: (35, 4)\n",
      "Features: ['dataset', 'id', 'dialogue', 'note']\n",
      "--------------------------------------------------\n",
      "Filename: train_virtscribe_asr.csv\n",
      "Shape: (12, 4)\n",
      "Features: ['dataset', 'id', 'dialogue', 'note']\n",
      "--------------------------------------------------\n",
      "Filename: valid_aci_asr.csv\n",
      "Shape: (11, 4)\n",
      "Features: ['dataset', 'id', 'dialogue', 'note']\n",
      "--------------------------------------------------\n",
      "Filename: valid_aci_asrcorr.csv\n",
      "Shape: (11, 4)\n",
      "Features: ['dataset', 'id', 'dialogue', 'note']\n",
      "--------------------------------------------------\n",
      "Filename: valid_virtscribe_asr.csv\n",
      "Shape: (4, 4)\n",
      "Features: ['dataset', 'id', 'dialogue', 'note']\n",
      "--------------------------------------------------\n",
      "Filename: valid_virtscribe_humantrans.csv\n",
      "Shape: (4, 4)\n",
      "Features: ['dataset', 'id', 'dialogue', 'note']\n",
      "--------------------------------------------------\n"
     ]
    }
   ],
   "source": [
    "load_and_print_csv_files(data_path + \"src_experiment_data\")"
   ]
  },
  {
   "cell_type": "code",
   "execution_count": 5,
   "metadata": {},
   "outputs": [
    {
     "name": "stdout",
     "output_type": "stream",
     "text": [
      "nvcc: NVIDIA (R) Cuda compiler driver\n",
      "Copyright (c) 2005-2025 NVIDIA Corporation\n",
      "Built on Fri_Feb_21_20:42:46_Pacific_Standard_Time_2025\n",
      "Cuda compilation tools, release 12.8, V12.8.93\n",
      "Build cuda_12.8.r12.8/compiler.35583870_0\n"
     ]
    }
   ],
   "source": [
    "!nvcc --version"
   ]
  },
  {
   "cell_type": "code",
   "execution_count": 83,
   "metadata": {},
   "outputs": [
    {
     "name": "stderr",
     "output_type": "stream",
     "text": [
      "Loading checkpoint shards: 100%|███████████████████████████████████████████████| 4/4 [00:12<00:00,  3.03s/it]\n"
     ]
    },
    {
     "name": "stdout",
     "output_type": "stream",
     "text": [
      "Shape of the combined dataframe: (167, 4)\n",
      "Features in the combined dataframe: ['dataset', 'encounter_id', 'dialogue', 'note']\n"
     ]
    }
   ],
   "source": [
    "import torch\n",
    "import bitsandbytes as bnb\n",
    "from transformers import (\n",
    "    AutoTokenizer,\n",
    "    AutoModelForCausalLM,\n",
    "    BitsAndBytesConfig,\n",
    "    TrainingArguments,\n",
    "    Trainer\n",
    ")\n",
    "from peft import LoraConfig, get_peft_model, TaskType\n",
    "from datasets import load_dataset, Dataset\n",
    "\n",
    "\n",
    "# 1) 4-bit quant config\n",
    "bnb_config = BitsAndBytesConfig(\n",
    "    load_in_4bit=True,\n",
    "    bnb_4bit_compute_dtype=torch.float16,\n",
    "    bnb_4bit_use_double_quant=True,\n",
    "    bnb_4bit_quant_type=\"nf4\",\n",
    ")\n",
    "\n",
    "# 2) Load base model in 4-bit\n",
    "base_model = AutoModelForCausalLM.from_pretrained(\n",
    "    \"HPAI-BSC/Qwen2.5-Aloe-Beta-7B\",\n",
    "    quantization_config=bnb_config,\n",
    "    device_map=\"auto\",\n",
    ")\n",
    "tokenizer = AutoTokenizer.from_pretrained(\"HPAI-BSC/Qwen2.5-Aloe-Beta-7B\")\n",
    "tokenizer.pad_token = tokenizer.eos_token\n",
    "tokenizer.padding_side = \"left\"\n",
    "\n",
    "# 3) Apply LoRA\n",
    "lora_config = LoraConfig(\n",
    "    task_type=TaskType.CAUSAL_LM,\n",
    "    r=8,\n",
    "    lora_alpha=32,\n",
    "    lora_dropout=0.1,\n",
    "    bias=\"none\",\n",
    "    target_modules=[\"q_proj\", \"k_proj\", \"v_proj\", \"o_proj\"], \n",
    ")\n",
    "model = get_peft_model(base_model, lora_config)\n",
    "\n",
    "# 4) Enable gradient checkpointing\n",
    "model.enable_input_require_grads()\n",
    "model.gradient_checkpointing_enable()\n",
    "base_model.config.use_cache = False\n",
    "\n",
    "# 5) Prepare data with smaller sequence length\n",
    "# notechat = load_dataset(\"akemiH/NoteChat\")\n",
    "# trainB = notechat[\"train\"].select(range(3000))\n",
    "# evalB = notechat[\"train\"].select(range(3000, 3500))\n",
    "\n",
    "train_df = pd.read_csv(data_path+\"\\\\challenge_data\"+\"\\\\train.csv\")\n",
    "train_df2 = pd.read_csv(data_path+\"\\\\challenge_data\"+\"\\\\valid.csv\")\n",
    "train_df3 = pd.read_csv(data_path+\"\\\\challenge_data\"+\"\\\\clef_taskC_test3.csv\")\n",
    "train_df4 = pd.read_csv(data_path+\"\\\\challenge_data\"+\"\\\\clinicalnlp_taskB_test1.csv\")\n",
    "\n",
    "trainB = pd.concat([train_df, train_df2, train_df3, train_df4], axis=0, ignore_index=True)\n",
    "evalB = pd.read_csv(data_path + \"\\\\challenge_data\" + \"\\\\clinicalnlp_taskC_test2.csv\")\n",
    "\n",
    "print(\"Shape of the combined dataframe:\", trainB.shape)\n",
    "print(\"Features in the combined dataframe:\", trainB.columns.tolist())\n",
    "\n",
    "MAX_LENGTH = 256  # smaller sequence length\n",
    "\n",
    "class ConversationSummaryDataset(torch.utils.data.Dataset):\n",
    "    def __init__(self, hf_dataset, tokenizer, conversation, summary, max_length=MAX_LENGTH):\n",
    "        self.data = hf_dataset\n",
    "        self.tokenizer = tokenizer\n",
    "        self.max_length = max_length\n",
    "        self.conversation = conversation\n",
    "        self.summary = summary\n",
    "\n",
    "    def __len__(self):\n",
    "        return len(self.data)\n",
    "\n",
    "    def __getitem__(self, idx):\n",
    "        if isinstance(self.data, Dataset):\n",
    "            conversation = str(self.data[idx][self.conversation])\n",
    "            summary = str(self.data[idx][self.summary])\n",
    "        elif isinstance(self.data, pd.DataFrame):\n",
    "            conversation = str(self.data.iloc[idx][self.conversation])\n",
    "            summary = str(self.data.iloc[idx][self.summary])\n",
    "        else:\n",
    "            raise TypeError(\"Data must either be a pandas dataframe or a huggingface dataset\")\n",
    "            \n",
    "        text = f\"CONVERSATION:\\n{conversation}\\n\\nSUMMARY: {summary}\"\n",
    "\n",
    "        encodings = self.tokenizer(\n",
    "            text,\n",
    "            truncation=True,\n",
    "            max_length=self.max_length,\n",
    "            padding=\"max_length\",\n",
    "            return_tensors=\"pt\",\n",
    "        )\n",
    "        input_ids = encodings[\"input_ids\"].squeeze()\n",
    "        attention_mask = encodings[\"attention_mask\"].squeeze()\n",
    "\n",
    "        labels = input_ids.clone()\n",
    "        labels[labels == self.tokenizer.pad_token_id] = -100\n",
    "\n",
    "        return {\n",
    "            \"input_ids\": input_ids,\n",
    "            \"attention_mask\": attention_mask,\n",
    "            \"labels\": labels,\n",
    "        }\n",
    "\n",
    "train_dataset = ConversationSummaryDataset(trainB, tokenizer, \"dialogue\", \"note\")\n",
    "eval_dataset = ConversationSummaryDataset(evalB, tokenizer, \"dialogue\", \"note\")"
   ]
  },
  {
   "cell_type": "code",
   "execution_count": 85,
   "metadata": {},
   "outputs": [
    {
     "name": "stderr",
     "output_type": "stream",
     "text": [
      "C:\\Users\\BMSCE CSE.DESKTOP-IUB6THA\\.conda\\envs\\kshitij\\Lib\\site-packages\\transformers\\training_args.py:1594: FutureWarning: `evaluation_strategy` is deprecated and will be removed in version 4.46 of 🤗 Transformers. Use `eval_strategy` instead\n",
      "  warnings.warn(\n",
      "C:\\Users\\BMSCE CSE.DESKTOP-IUB6THA\\AppData\\Local\\Temp\\ipykernel_20020\\2075795087.py:18: FutureWarning: `tokenizer` is deprecated and will be removed in version 5.0.0 for `Trainer.__init__`. Use `processing_class` instead.\n",
      "  trainer = Trainer(\n",
      "No label_names provided for model class `PeftModelForCausalLM`. Since `PeftModel` hides base models input arguments, if label_names is not given, label_names can't be set automatically within `Trainer`. Note that empty label_names list will be used instead.\n"
     ]
    },
    {
     "data": {
      "text/html": [
       "\n",
       "    <div>\n",
       "      \n",
       "      <progress value='40' max='40' style='width:300px; height:20px; vertical-align: middle;'></progress>\n",
       "      [40/40 02:32, Epoch 1/2]\n",
       "    </div>\n",
       "    <table border=\"1\" class=\"dataframe\">\n",
       "  <thead>\n",
       " <tr style=\"text-align: left;\">\n",
       "      <th>Epoch</th>\n",
       "      <th>Training Loss</th>\n",
       "      <th>Validation Loss</th>\n",
       "    </tr>\n",
       "  </thead>\n",
       "  <tbody>\n",
       "    <tr>\n",
       "      <td>1</td>\n",
       "      <td>No log</td>\n",
       "      <td>2.074234</td>\n",
       "    </tr>\n",
       "  </tbody>\n",
       "</table><p>"
      ],
      "text/plain": [
       "<IPython.core.display.HTML object>"
      ]
     },
     "metadata": {},
     "output_type": "display_data"
    },
    {
     "data": {
      "text/plain": [
       "TrainOutput(global_step=40, training_loss=2.143132972717285, metrics={'train_runtime': 156.6595, 'train_samples_per_second': 2.132, 'train_steps_per_second': 0.255, 'total_flos': 3466962839273472.0, 'train_loss': 2.143132972717285, 'epoch': 1.910179640718563})"
      ]
     },
     "execution_count": 85,
     "metadata": {},
     "output_type": "execute_result"
    }
   ],
   "source": [
    "# 6) Training arguments\n",
    "training_args = TrainingArguments(\n",
    "    output_dir=\"./aloe_qwen_aci-bench\",\n",
    "    num_train_epochs=2,\n",
    "    per_device_train_batch_size=1,\n",
    "    gradient_accumulation_steps=8,      # accumulate to compensate for small batch\n",
    "    evaluation_strategy=\"epoch\",       # you can skip or reduce evaluation\n",
    "    fp16=True,\n",
    "    logging_steps=50,\n",
    "    save_strategy=\"epoch\",\n",
    "    save_total_limit=2,\n",
    "    dataloader_pin_memory=True,\n",
    "    dataloader_drop_last=True,\n",
    "    gradient_checkpointing=True,       # from the Trainer side as well\n",
    ")\n",
    "\n",
    "# 7) Trainer\n",
    "trainer = Trainer(\n",
    "    model=model,\n",
    "    args=training_args,\n",
    "    train_dataset=train_dataset,\n",
    "    eval_dataset=eval_dataset,\n",
    "    tokenizer=tokenizer,\n",
    ")\n",
    "\n",
    "# 8) Train\n",
    "trainer.train()"
   ]
  },
  {
   "cell_type": "code",
   "execution_count": 87,
   "metadata": {},
   "outputs": [
    {
     "data": {
      "text/plain": [
       "('./aloe_qwen_aci-bench\\\\tokenizer_config.json',\n",
       " './aloe_qwen_aci-bench\\\\special_tokens_map.json',\n",
       " './aloe_qwen_aci-bench\\\\vocab.json',\n",
       " './aloe_qwen_aci-bench\\\\merges.txt',\n",
       " './aloe_qwen_aci-bench\\\\added_tokens.json',\n",
       " './aloe_qwen_aci-bench\\\\tokenizer.json')"
      ]
     },
     "execution_count": 87,
     "metadata": {},
     "output_type": "execute_result"
    }
   ],
   "source": [
    "model.save_pretrained(\"./aloe_qwen_aci-bench\")\n",
    "tokenizer.save_pretrained(\"./aloe_qwen_aci-bench\")"
   ]
  },
  {
   "cell_type": "code",
   "execution_count": 95,
   "metadata": {},
   "outputs": [
    {
     "name": "stdout",
     "output_type": "stream",
     "text": [
      "./aloe_qwen_aci-bench\n"
     ]
    },
    {
     "name": "stderr",
     "output_type": "stream",
     "text": [
      "Loading checkpoint shards: 100%|███████████████████████████████████████████████| 4/4 [00:09<00:00,  2.47s/it]\n"
     ]
    }
   ],
   "source": [
    "import torch\n",
    "import bitsandbytes as bnb\n",
    "from transformers import (\n",
    "    AutoModelForCausalLM,\n",
    "    AutoTokenizer,\n",
    "    BitsAndBytesConfig,\n",
    "    pipeline\n",
    ")\n",
    "from peft import PeftModel\n",
    "\n",
    "model_dir = \"./aloe_qwen_aci-bench\"\n",
    "\n",
    "# -- Path to your LoRA weights + tokenizer --\n",
    "if isinstance(train_dataset, Dataset):\n",
    "    model_dir = \"./aloe_qwen\"\n",
    "    print(\"check\")\n",
    "elif isinstance(train_dataset, pd.DataFrame):\n",
    "    model_dir = \"./aloe_qwen_aci-bench\"\n",
    "    \n",
    "print(model_dir)\n",
    "\n",
    "# -- 4-bit quantization config (same as training) --\n",
    "bnb_config = BitsAndBytesConfig(\n",
    "    load_in_4bit=True,\n",
    "    bnb_4bit_compute_dtype=torch.float16,\n",
    "    bnb_4bit_use_double_quant=True,\n",
    "    bnb_4bit_quant_type=\"nf4\",\n",
    ")\n",
    "\n",
    "# -- 1) Load the *base* Qwen2.5 model in 4-bit --\n",
    "base_model = AutoModelForCausalLM.from_pretrained(\n",
    "    \"HPAI-BSC/Qwen2.5-Aloe-Beta-7B\",\n",
    "    quantization_config=bnb_config,\n",
    "    device_map=\"auto\",\n",
    ")\n",
    "\n",
    "# -- 2) Load your fine-tuned LoRA adapters into the base model --\n",
    "# The directory should contain adapter_model.bin, adapter_config.json, etc.\n",
    "lora_model = PeftModel.from_pretrained(\n",
    "    base_model, \n",
    "    model_dir,\n",
    "    device_map=\"auto\",\n",
    ")\n",
    "\n",
    "# -- 3) Load the tokenizer you saved to ./aloe_qwen --\n",
    "tokenizer = AutoTokenizer.from_pretrained(model_dir)\n",
    "tokenizer.pad_token = tokenizer.eos_token\n",
    "tokenizer.padding_side = \"left\"\n"
   ]
  },
  {
   "cell_type": "code",
   "execution_count": 5,
   "metadata": {},
   "outputs": [
    {
     "name": "stderr",
     "output_type": "stream",
     "text": [
      "Device set to use cuda:0\n",
      "The model 'PeftModelForCausalLM' is not supported for text-generation. Supported models are ['AriaTextForCausalLM', 'BambaForCausalLM', 'BartForCausalLM', 'BertLMHeadModel', 'BertGenerationDecoder', 'BigBirdForCausalLM', 'BigBirdPegasusForCausalLM', 'BioGptForCausalLM', 'BlenderbotForCausalLM', 'BlenderbotSmallForCausalLM', 'BloomForCausalLM', 'CamembertForCausalLM', 'LlamaForCausalLM', 'CodeGenForCausalLM', 'CohereForCausalLM', 'Cohere2ForCausalLM', 'CpmAntForCausalLM', 'CTRLLMHeadModel', 'Data2VecTextForCausalLM', 'DbrxForCausalLM', 'DiffLlamaForCausalLM', 'ElectraForCausalLM', 'Emu3ForCausalLM', 'ErnieForCausalLM', 'FalconForCausalLM', 'FalconMambaForCausalLM', 'FuyuForCausalLM', 'GemmaForCausalLM', 'Gemma2ForCausalLM', 'GitForCausalLM', 'GlmForCausalLM', 'GotOcr2ForConditionalGeneration', 'GPT2LMHeadModel', 'GPT2LMHeadModel', 'GPTBigCodeForCausalLM', 'GPTNeoForCausalLM', 'GPTNeoXForCausalLM', 'GPTNeoXJapaneseForCausalLM', 'GPTJForCausalLM', 'GraniteForCausalLM', 'GraniteMoeForCausalLM', 'GraniteMoeSharedForCausalLM', 'HeliumForCausalLM', 'JambaForCausalLM', 'JetMoeForCausalLM', 'LlamaForCausalLM', 'MambaForCausalLM', 'Mamba2ForCausalLM', 'MarianForCausalLM', 'MBartForCausalLM', 'MegaForCausalLM', 'MegatronBertForCausalLM', 'MistralForCausalLM', 'MixtralForCausalLM', 'MllamaForCausalLM', 'MoshiForCausalLM', 'MptForCausalLM', 'MusicgenForCausalLM', 'MusicgenMelodyForCausalLM', 'MvpForCausalLM', 'NemotronForCausalLM', 'OlmoForCausalLM', 'Olmo2ForCausalLM', 'OlmoeForCausalLM', 'OpenLlamaForCausalLM', 'OpenAIGPTLMHeadModel', 'OPTForCausalLM', 'PegasusForCausalLM', 'PersimmonForCausalLM', 'PhiForCausalLM', 'Phi3ForCausalLM', 'PhimoeForCausalLM', 'PLBartForCausalLM', 'ProphetNetForCausalLM', 'QDQBertLMHeadModel', 'Qwen2ForCausalLM', 'Qwen2MoeForCausalLM', 'RecurrentGemmaForCausalLM', 'ReformerModelWithLMHead', 'RemBertForCausalLM', 'RobertaForCausalLM', 'RobertaPreLayerNormForCausalLM', 'RoCBertForCausalLM', 'RoFormerForCausalLM', 'RwkvForCausalLM', 'Speech2Text2ForCausalLM', 'StableLmForCausalLM', 'Starcoder2ForCausalLM', 'TransfoXLLMHeadModel', 'TrOCRForCausalLM', 'WhisperForCausalLM', 'XGLMForCausalLM', 'XLMWithLMHeadModel', 'XLMProphetNetForCausalLM', 'XLMRobertaForCausalLM', 'XLMRobertaXLForCausalLM', 'XLNetLMHeadModel', 'XmodForCausalLM', 'ZambaForCausalLM', 'Zamba2ForCausalLM'].\n",
      "C:\\Users\\BMSCE CSE.DESKTOP-IUB6THA\\.conda\\envs\\kshitij\\Lib\\site-packages\\transformers\\generation\\configuration_utils.py:629: UserWarning: `do_sample` is set to `False`. However, `temperature` is set to `0.7` -- this flag is only used in sample-based generation modes. You should set `do_sample=True` or unset `temperature`.\n",
      "  warnings.warn(\n",
      "C:\\Users\\BMSCE CSE.DESKTOP-IUB6THA\\.conda\\envs\\kshitij\\Lib\\site-packages\\transformers\\generation\\configuration_utils.py:634: UserWarning: `do_sample` is set to `False`. However, `top_p` is set to `0.8` -- this flag is only used in sample-based generation modes. You should set `do_sample=True` or unset `top_p`.\n",
      "  warnings.warn(\n",
      "C:\\Users\\BMSCE CSE.DESKTOP-IUB6THA\\.conda\\envs\\kshitij\\Lib\\site-packages\\transformers\\generation\\configuration_utils.py:651: UserWarning: `do_sample` is set to `False`. However, `top_k` is set to `20` -- this flag is only used in sample-based generation modes. You should set `do_sample=True` or unset `top_k`.\n",
      "  warnings.warn(\n"
     ]
    },
    {
     "name": "stdout",
     "output_type": "stream",
     "text": [
      "\n",
      "EXTRACTED SUMMARY:\n",
      " - **Symptoms**: Fever, dry cough, dyspnea\n",
      "- **Physical Activities**: Position changes, deep breathing, breathing exercises, strength and walking exercises\n",
      "- **Medical History**: No relevant information provided\n",
      "- **Surgical History**: No relevant information provided\n",
      "- **Treatment Plan History**: Physical therapy, gradual position changes, breathing exercises adapted to avoid coughing and oxygen desaturation, low-level strength and walking exercises with frequent breaks to prevent deoxygenation. Exercise progression increased daily until hospital discharge to a rehabilitation clinic. Doctor will continue to monitor patient's progress and update on any changes in symptoms. 1. Patient presented with symptoms of fever, dry cough, and dyspnea.\n",
      "2. He was diagnosed with moderate ARDS from COVID-19 and hospitalized.\n",
      "3. During physical therapy, he experienced difficulties with position changes and deep breathing, leading to coughing and shortness of breath.\n",
      "4. To avoid rapid deterioration and respiratory failure, the patient was instructed to change positions slowly and step-by-step.\n",
      "5. This approach increased his oxygen saturation, such as on day 5 with 6 L/min of oxygen from 93% to 97%.\n",
      "6. Breathing exercises were adapted to avoid prolonged coughing and oxygen desaturation, with the patient stopping every deep breath before coughing and holding his breath for better air distribution.\n",
      "7. The patient performed the breathing exercises well and managed to increase his oxygen saturation.\n",
      "8. He had difficulty maintaining sufficient oxygen saturation during physical activity, but with close monitoring and frequent breaks, he was able to perform low-level strength and walking exercises without significant deoxygenation.\n",
      "9. The exercise progression was low on days 1 to 5, but then increased daily until the patient's hospital discharge to a rehabilitation clinic on day 10.\n",
      "10. The doctor will continue to monitor the patient's progress and update on any changes in symptoms. 1. Patient presented with symptoms of\n"
     ]
    }
   ],
   "source": [
    "### FOR NoteChat testing model\n",
    "\n",
    "from transformers import pipeline\n",
    "\n",
    "# 1) Create a conversation + summary prompt\n",
    "conversation_text = \"\"\"\n",
    "Doctor: Hi, Mr. X, I'm Dr. Y. How are you feeling today?\n",
    "Patient: Not too good, doctor. I've been feeling really sick lately.\n",
    "Doctor: I understand. Can you tell me what symptoms you're experiencing?\n",
    "Patient: Yes, I've been having a fever, a dry cough, and dyspnea.\n",
    "Doctor: I see. You were hospitalized due to moderate ARDS from COVID-19, is that correct?\n",
    "Patient: Yes, that's correct.\n",
    "Doctor: During your physical therapy, we encountered some difficulties. Can you tell me more about that?\n",
    "Patient: Yes, I had trouble with position changes and deep breathing. Every time I tried to change my position or take a deep breath, I would start coughing and it would make me really short of breath.\n",
    "Doctor: I understand. To avoid rapid deterioration and respiratory failure, we instructed you to change positions very slowly and step-by-step, right?\n",
    "Patient: Yes, that's right.\n",
    "Doctor: And I see that this approach increased your oxygen saturation, for example, on day 5 with 6 L/min of oxygen from 93% to 97%.\n",
    "Patient: Yes, that's correct.\n",
    "Doctor: Good. We also had to adapt your breathing exercises to avoid prolonged coughing and oxygen desaturation. Can you tell me more about that?\n",
    "Patient: Yes, I was instructed to stop every deep breath before coughing and to hold my breath for better air distribution.\n",
    "Doctor: I see that you performed the breathing exercises well and managed to increase your oxygen saturation.\n",
    "Patient: Yes, I did my best.\n",
    "Doctor: You also had difficulty maintaining sufficient oxygen saturation during physical activity, is that correct?\n",
    "Patient: Yes, I did. But with close monitoring and frequent breaks, I was able to perform low-level strength and walking exercises without any significant deoxygenation.\n",
    "Doctor: I see that your exercise progression was low on days 1 to 5, but then increased daily until your hospital discharge to a rehabilitation clinic on day 10.\n",
    "Patient: Yes, that's correct.\n",
    "Doctor: Great. I'd like to keep monitoring your progress and see how you're doing. Can you keep me updated on any changes in your symptoms?\n",
    "Patient: Yes, of course, doctor.\n",
    "Doctor: Alright, let's keep in touch. If you have any questions or concerns, don't hesitate to reach out to me.\n",
    "Patient: Thank you, doctor.\n",
    "\"\"\"\n",
    "prompt = f\"\"\"\n",
    "CONVERSATION:\n",
    "{conversation_text}\n",
    "\n",
    "SUMMARY:\n",
    "- **Symptoms**:\n",
    "  (Include symptoms mentioned in the conversation, if any.)\n",
    "\n",
    "- **Physical Activities**:\n",
    "  (Include details about physical activities or excercise habits mentioned in the conversation, if any.)\n",
    "\n",
    "- **Medical History**:\n",
    "  (Include any relavent medical history mentioned in the conversation, if any.)\n",
    "\n",
    "- **Surgical History**\n",
    "  (Include any details about past surgeries mentioned in the conversation, if any.)\n",
    "\n",
    "- **Treatment Plan History**\n",
    "  (Include any details about past treatment plans or suggestions made by healthcare professionals, including medications, surgeries, therapies, or lifestyle changes, if any.)\n",
    "\n",
    "Provide the summary in plain text with the above attributes, and include information only if it is mentioned in the conversation. If any attribute is not discussed, omit it. Only include the summary in the generated response.Format the summary properly.\\n\\n\n",
    "\"\"\"\n",
    "\n",
    "# Create a text-generation pipeline\n",
    "# (You can name it 'summarizer' if you wish, but it's using text-generation.)\n",
    "text_gen_pipeline = pipeline(\n",
    "    \"text-generation\",\n",
    "    model=lora_model,\n",
    "    tokenizer=tokenizer,\n",
    "    device_map=\"auto\",   # place on GPU if available\n",
    ")\n",
    "# Now generate text using the pipeline\n",
    "response = text_gen_pipeline(\n",
    "    prompt,\n",
    "    max_new_tokens=400,\n",
    "    do_sample=False,  # Deterministic for demonstration\n",
    ")\n",
    "\n",
    "# The output is a list of dict(s); each has \"generated_text\"\n",
    "generated_text = response[0][\"generated_text\"]\n",
    "# print(\"FULL OUTPUT:\\n\", generated_text)\n",
    "\n",
    "# If the model replicates your training format, you'll see something like:\n",
    "# \"CONVERSATION: ... SUMMARY: <the actual summary text>\"\n",
    "# You can strip off everything before \"SUMMARY:\" if you only want the summary.\n",
    "if \"Summary:\" in generated_text:\n",
    "    final_summary = generated_text.split(\"Summary:\", 1)[-1].strip()\n",
    "else:\n",
    "    final_summary = generated_text\n",
    "\n",
    "print(\"\\nEXTRACTED SUMMARY:\\n\", final_summary)\n"
   ]
  },
  {
   "cell_type": "code",
   "execution_count": 9,
   "metadata": {},
   "outputs": [
    {
     "name": "stdout",
     "output_type": "stream",
     "text": [
      "\n",
      "EXTRACTED SUMMARY:\n",
      " - **Symptoms**:\n",
      "  (Include symptoms mentioned in the conversation, if any.)\n",
      "\n",
      "- **Physical Activities**:\n",
      "  (Include details about physical activities or excercise habits mentioned in the conversation, if any.)\n",
      "\n",
      "- **Medical History**:\n",
      "  (Include any relavent medical history mentioned in the conversation, if any.)\n",
      "\n",
      "- **Surgical History**\n",
      "  (Include any details about past surgeries mentioned in the conversation, if any.)\n",
      "\n",
      "- **Treatment Plan History**\n",
      "  (Include any details about past treatment plans or suggestions made by healthcare professionals, including medications, surgeries, therapies, or lifestyle changes, if any.)\n",
      "\n",
      "Provide the summary in plain text with the above attributes, and include information only if it is mentioned in the conversation. If any attribute is not discussed, omit it. Only include the summary in the generated response.Format the summary properly.\n",
      "\n",
      "\n",
      "Summary: The patient presented with a persistent fever, dry cough, and severe breathlessness. She had a history of hypertension, diabetes mellitus, and chronic obstructive pulmonary disease. She was admitted to the hospital due to her worsening condition. The patient reported feeling weak and sick for the past two weeks. She was given physical therapy, which included educating her about dyspnea-relieving positions and the importance of regular mobilization and deep-breathing exercises. However, her anxiety from fear of dying and worries about her future made her dyspnea worse. After receiving education and relaxing breathing exercises, her respiratory rate decreased from 30 breaths/min to 22 breaths/min, and her oxygen saturation increased from 92% to 96% on 4 L/min oxygen. She regained her self-confidence and was able to walk 350 m without a walking aid or supplemental oxygen before her discharge home. No specific treatment plan, medications, surgeries, or lifestyle changes were mentioned in the conversation. The patient's medical history included hypertension, diabetes mellitus, and chronic obstructive pulmonary disease. No surgical history was provided. The patient's treatment plan history included physical therapy, but no other details were mentioned. 1. Patient presented with persistent fever, dry cough, and severe breathlessness.\n",
      "2. History of hypertension, diabetes mellitus, and chronic obstructive pulmonary disease.\n",
      "3. Admitted to the hospital due to worsening condition.\n",
      "4. Physical therapy included educating about dyspnea-relieving positions and deep-breathing exercises.\n",
      "5. Anxiety from fear of dying and worries about future made dyspnea worse.\n",
      "6. Education and relaxing breathing exercises improved respiratory rate and oxygen saturation.\n",
      "7. Regained self-confidence and walked 350 m without aid or supplemental oxygen.\n",
      "8. No specific treatment plan, medications, surgeries, or lifestyle changes mentioned.\n",
      "9. Medical history includes hypertension, diabetes mellitus, and chronic obstructive pulmonary disease.\n",
      "10. No surgical history provided.\n",
      "11. Treatment plan history includes physical therapy, but no other details mentioned. 1. Patient presented with persistent fever, dry cough, and severe breathlessness.\n",
      "2. History of hypertension, diabetes mellitus, and chronic obstructive pulmonary disease.\n",
      "3. Admitted to the hospital due to worsening condition.\n",
      "4. Physical therapy included educating about dyspnea-relieving positions and deep-breathing exercises.\n",
      "5. Anxiety from fear of dying and worries about future made dyspnea\n"
     ]
    }
   ],
   "source": [
    "conversation_text = \"\"\"\n",
    "Doctor: Hello, I am Dr. Smith. Can you tell me what brings you to the hospital today?\n",
    "Patient: Yes, I have been feeling very weak and sick for the past two weeks. I have a persistent fever and dry cough.\n",
    "Doctor: I see. And how is your breathing?\n",
    "Patient: It's been shallow and rapid, especially when I am at rest. And I get severely breathless even with minor physical activities.\n",
    "Doctor: Okay. I understand. You were given physical therapy, right?\n",
    "Patient: Yes, they focused on educating me about dyspnea-relieving positions and the importance of regular mobilization and deep-breathing exercises.\n",
    "Doctor: That's good. And how did it go?\n",
    "Patient: It became evident that my anxiety from fear of dying and worries about my future was making my dyspnea worse. I was so dyspneic, anxious, and weak that I could barely walk to the toilet.\n",
    "Doctor: I see. But your physical therapist helped you with that, right?\n",
    "Patient: Yes, they listened to me, explained why I was experiencing breathlessness, and tested suitable positions to relieve my dyspnea. I felt better after the education and relaxing breathing exercises.\n",
    "Doctor: That's great to hear. Can you tell me more about the improvement?\n",
    "Patient: On day 2, my respiratory rate reduced from 30 breaths/min to 22 breaths/min and my oxygen saturation increased from 92% to 96% on 4 L/min oxygen after some deep-breathing exercises.\n",
    "Doctor: That's impressive. And how did it go after that?\n",
    "Patient: My dyspnea and anxiety started to alleviate and I regained my self-confidence. The therapy was shifted to walking and strength training, and I was able to walk 350 m without a walking aid or supplemental oxygen before my discharge home.\n",
    "Doctor: That's fantastic. You have made a great progress. I am glad to hear that.\n",
    "\"\"\"\n",
    "prompt = f\"\"\"\n",
    "CONVERSATION:\n",
    "{conversation_text}\n",
    "\n",
    "SUMMARY:\n",
    "- **Symptoms**:\n",
    "  (Include symptoms mentioned in the conversation, if any.)\n",
    "\n",
    "- **Physical Activities**:\n",
    "  (Include details about physical activities or excercise habits mentioned in the conversation, if any.)\n",
    "\n",
    "- **Medical History**:\n",
    "  (Include any relavent medical history mentioned in the conversation, if any.)\n",
    "\n",
    "- **Surgical History**\n",
    "  (Include any details about past surgeries mentioned in the conversation, if any.)\n",
    "\n",
    "- **Treatment Plan History**\n",
    "  (Include any details about past treatment plans or suggestions made by healthcare professionals, including medications, surgeries, therapies, or lifestyle changes, if any.)\n",
    "\n",
    "Provide the summary in plain text with the above attributes, and include information only if it is mentioned in the conversation. If any attribute is not discussed, omit it. Only include the summary in the generated response.Format the summary properly.\\n\\n\n",
    "\"\"\"\n",
    "\n",
    "response = text_gen_pipeline(\n",
    "    prompt,\n",
    "    max_new_tokens=500,\n",
    "    do_sample=False,  # Deterministic for demonstration\n",
    ")\n",
    "\n",
    "# The output is a list of dict(s); each has \"generated_text\"\n",
    "generated_text = response[0][\"generated_text\"]\n",
    "# print(\"FULL OUTPUT:\\n\", generated_text)\n",
    "\n",
    "# If the model replicates your training format, you'll see something like:\n",
    "# \"CONVERSATION: ... SUMMARY: <the actual summary text>\"\n",
    "# You can strip off everything before \"SUMMARY:\" if you only want the summary.\n",
    "if \"SUMMARY:\" in generated_text:\n",
    "    final_summary = generated_text.split(\"SUMMARY:\", 1)[-1].strip()\n",
    "else:\n",
    "    final_summary = generated_text\n",
    "\n",
    "print(\"\\nEXTRACTED SUMMARY:\\n\", final_summary)"
   ]
  },
  {
   "cell_type": "code",
   "execution_count": 123,
   "metadata": {},
   "outputs": [
    {
     "name": "stderr",
     "output_type": "stream",
     "text": [
      "Device set to use cuda:0\n",
      "The model 'PeftModelForCausalLM' is not supported for text-generation. Supported models are ['AriaTextForCausalLM', 'BambaForCausalLM', 'BartForCausalLM', 'BertLMHeadModel', 'BertGenerationDecoder', 'BigBirdForCausalLM', 'BigBirdPegasusForCausalLM', 'BioGptForCausalLM', 'BlenderbotForCausalLM', 'BlenderbotSmallForCausalLM', 'BloomForCausalLM', 'CamembertForCausalLM', 'LlamaForCausalLM', 'CodeGenForCausalLM', 'CohereForCausalLM', 'Cohere2ForCausalLM', 'CpmAntForCausalLM', 'CTRLLMHeadModel', 'Data2VecTextForCausalLM', 'DbrxForCausalLM', 'DiffLlamaForCausalLM', 'ElectraForCausalLM', 'Emu3ForCausalLM', 'ErnieForCausalLM', 'FalconForCausalLM', 'FalconMambaForCausalLM', 'FuyuForCausalLM', 'GemmaForCausalLM', 'Gemma2ForCausalLM', 'GitForCausalLM', 'GlmForCausalLM', 'GotOcr2ForConditionalGeneration', 'GPT2LMHeadModel', 'GPT2LMHeadModel', 'GPTBigCodeForCausalLM', 'GPTNeoForCausalLM', 'GPTNeoXForCausalLM', 'GPTNeoXJapaneseForCausalLM', 'GPTJForCausalLM', 'GraniteForCausalLM', 'GraniteMoeForCausalLM', 'GraniteMoeSharedForCausalLM', 'HeliumForCausalLM', 'JambaForCausalLM', 'JetMoeForCausalLM', 'LlamaForCausalLM', 'MambaForCausalLM', 'Mamba2ForCausalLM', 'MarianForCausalLM', 'MBartForCausalLM', 'MegaForCausalLM', 'MegatronBertForCausalLM', 'MistralForCausalLM', 'MixtralForCausalLM', 'MllamaForCausalLM', 'MoshiForCausalLM', 'MptForCausalLM', 'MusicgenForCausalLM', 'MusicgenMelodyForCausalLM', 'MvpForCausalLM', 'NemotronForCausalLM', 'OlmoForCausalLM', 'Olmo2ForCausalLM', 'OlmoeForCausalLM', 'OpenLlamaForCausalLM', 'OpenAIGPTLMHeadModel', 'OPTForCausalLM', 'PegasusForCausalLM', 'PersimmonForCausalLM', 'PhiForCausalLM', 'Phi3ForCausalLM', 'PhimoeForCausalLM', 'PLBartForCausalLM', 'ProphetNetForCausalLM', 'QDQBertLMHeadModel', 'Qwen2ForCausalLM', 'Qwen2MoeForCausalLM', 'RecurrentGemmaForCausalLM', 'ReformerModelWithLMHead', 'RemBertForCausalLM', 'RobertaForCausalLM', 'RobertaPreLayerNormForCausalLM', 'RoCBertForCausalLM', 'RoFormerForCausalLM', 'RwkvForCausalLM', 'Speech2Text2ForCausalLM', 'StableLmForCausalLM', 'Starcoder2ForCausalLM', 'TransfoXLLMHeadModel', 'TrOCRForCausalLM', 'WhisperForCausalLM', 'XGLMForCausalLM', 'XLMWithLMHeadModel', 'XLMProphetNetForCausalLM', 'XLMRobertaForCausalLM', 'XLMRobertaXLForCausalLM', 'XLNetLMHeadModel', 'XmodForCausalLM', 'ZambaForCausalLM', 'Zamba2ForCausalLM'].\n",
      "C:\\Users\\BMSCE CSE.DESKTOP-IUB6THA\\.conda\\envs\\kshitij\\Lib\\site-packages\\transformers\\generation\\configuration_utils.py:629: UserWarning: `do_sample` is set to `False`. However, `temperature` is set to `0.7` -- this flag is only used in sample-based generation modes. You should set `do_sample=True` or unset `temperature`.\n",
      "  warnings.warn(\n",
      "C:\\Users\\BMSCE CSE.DESKTOP-IUB6THA\\.conda\\envs\\kshitij\\Lib\\site-packages\\transformers\\generation\\configuration_utils.py:634: UserWarning: `do_sample` is set to `False`. However, `top_p` is set to `0.8` -- this flag is only used in sample-based generation modes. You should set `do_sample=True` or unset `top_p`.\n",
      "  warnings.warn(\n",
      "C:\\Users\\BMSCE CSE.DESKTOP-IUB6THA\\.conda\\envs\\kshitij\\Lib\\site-packages\\transformers\\generation\\configuration_utils.py:651: UserWarning: `do_sample` is set to `False`. However, `top_k` is set to `20` -- this flag is only used in sample-based generation modes. You should set `do_sample=True` or unset `top_k`.\n",
      "  warnings.warn(\n"
     ]
    },
    {
     "name": "stdout",
     "output_type": "stream",
     "text": [
      "\n",
      "EXTRACTED SUMMARY:\n",
      " \n",
      "CONVERSATION:\n",
      "\n",
      "Doctor: Hi, Mr. X, I'm Dr. Y. How are you feeling today?\n",
      "Patient: Not too good, doctor. I've been feeling really sick lately.\n",
      "Doctor: I understand. Can you tell me what symptoms you're experiencing?\n",
      "Patient: Yes, I've been having a fever, a dry cough, and dyspnea.\n",
      "Doctor: I see. You were hospitalized due to moderate ARDS from COVID-19, is that correct?\n",
      "Patient: Yes, that's correct.\n",
      "Doctor: During your physical therapy, we encountered some difficulties. Can you tell me more about that?\n",
      "Patient: Yes, I had trouble with position changes and deep breathing. Every time I tried to change my position or take a deep breath, I would start coughing and it would make me really short of breath.\n",
      "Doctor: I understand. To avoid rapid deterioration and respiratory failure, we instructed you to change positions very slowly and step-by-step, right?\n",
      "Patient: Yes, that's right.\n",
      "Doctor: And I see that this approach increased your oxygen saturation, for example, on day 5 with 6 L/min of oxygen from 93% to 97%.\n",
      "Patient: Yes, that's correct.\n",
      "Doctor: Good. We also had to adapt your breathing exercises to avoid prolonged coughing and oxygen desaturation. Can you tell me more about that?\n",
      "Patient: Yes, I was instructed to stop every deep breath before coughing and to hold my breath for better air distribution.\n",
      "Doctor: I see that you performed the breathing exercises well and managed to increase your oxygen saturation.\n",
      "Patient: Yes, I did my best.\n",
      "Doctor: You also had difficulty maintaining sufficient oxygen saturation during physical activity, is that correct?\n",
      "Patient: Yes, I did. But with close monitoring and frequent breaks, I was able to perform low-level strength and walking exercises without any significant deoxygenation.\n",
      "Doctor: I see that your exercise progression was low on days 1 to 5, but then increased daily until your hospital discharge to a rehabilitation clinic on day 10.\n",
      "Patient: Yes, that's correct.\n",
      "Doctor: Great. I'd like to keep monitoring your progress and see how you're doing. Can you keep me updated on any changes in your symptoms?\n",
      "Patient: Yes, of course, doctor.\n",
      "Doctor: Alright, let's keep in touch. If you have any questions or concerns, don't hesitate to reach out to me.\n",
      "Patient: Thank you, doctor.\n",
      "\n",
      "\n",
      "SUMMARY:\n",
      "Please generate a medical summary based on the following clinical notes. The summary should include the following sections: Chief Complaint, History of Present Illness, Vitals, Physical Exam, Results, Assessment, Plan, and Instructions.\n",
      "Please format the response as plain text, without using markdown or special formatting, and with clear headings for each section, like this:\n",
      "\n",
      "\n",
      "CHIEF COMPLAINT\n",
      "A concise statement of the patient's primary concern or reason for visiting the clinic.\n",
      "\n",
      "HISTORY OF PRESENT ILLNESS\n",
      "A detailed narrative about the patient's symptoms, their onset, duration, and any relevant medical history or previous treatments.\n",
      "\n",
      "VITALS\n",
      "Include any relevant vital signs (e.g., oxygen saturation, blood pressure) if available.\n",
      "\n",
      "PHYSICAL EXAM \n",
      "Summarize the findings from the physical examination, including any notable abnormalities.\n",
      "\n",
      "RESULTS \n",
      "Summarize the results of any diagnostic tests performed (e.g., lab work, imaging studies).\n",
      "\n",
      "ASSESSMENT\n",
      "The doctor's assessment of the patient's condition or diagnosis.\n",
      "\n",
      "PLAN\n",
      "The treatment plan, including prescribed medications, lifestyle recommendations, and follow-up instructions.\n",
      "\n",
      "INSTRUCTIONS\n",
      "Specific instructions for the patient regarding their treatment plan and follow-up care.\n",
      "\n",
      "Important Note: If any section lacks relevant information or if specific details are not provided (e.g., vitals are not mentioned, no abnormal findings in the physical exam), omit that section from the generated summary. Only include sections for which there is sufficient information available.\n",
      "CHIEF COMPLAINT\n",
      "The patient presents with symptoms of a fever, dry cough, and dyspnea.\n",
      "\n",
      "HISTORY OF PRESENT ILLNESS\n",
      "The patient reports being hospitalized for moderate Acute Respiratory Distress Syndrome (ARDS) caused by COVID-19. During physical therapy, the patient experienced difficulties with position changes and deep breathing, leading to coughing and shortness of breath. The patient was instructed to change positions slowly and perform breathing exercises to avoid prolonged coughing and oxygen desaturation. Despite these challenges, the patient was able to increase oxygen saturation levels and perform low-level strength and walking exercises without significant deoxygenation.\n",
      "\n",
      "VITALS\n",
      "Oxygen saturation on day 5 with 6 L/min of oxygen was 97%.\n",
      "\n",
      "PHYSICAL EXAM\n",
      "No additional details provided.\n",
      "\n",
      "RESULTS\n",
      "No specific test results mentioned.\n",
      "\n",
      "ASSESSMENT\n",
      "The patient has recovered from moderate ARDS due to COVID-19 and has shown improvement in oxygen saturation levels and ability to perform physical activities without significant deoxygenation.\n",
      "\n",
      "PLAN\n",
      "The patient will continue to be monitored for any changes in symptoms. The patient is advised to maintain close communication with the healthcare team and report any new or worsening symptoms. No further specific treatment plan details provided.\n",
      "\n",
      "INSTRUCTIONS\n",
      "The patient is instructed to keep the healthcare team informed of any changes in symptoms and to reach out with any questions or concerns. No specific lifestyle recommendations or follow-up appointments mentioned. \n",
      "\n",
      "The patient's progress will be closely monitored, and they are encouraged to reach out if they experience any new or worsening symptoms. Regular follow-ups at the rehabilitation clinic will be scheduled to assess their recovery and adjust the treatment plan as needed. The patient is advised to maintain open communication with the healthcare team and adhere to the recommended treatment plan to ensure optimal recovery.\n"
     ]
    }
   ],
   "source": [
    "#### FOR ACI BENCH TESTING MODEL\n",
    "\n",
    "\n",
    "from transformers import pipeline\n",
    "\n",
    "# 1) Create a conversation + summary prompt\n",
    "conversation_text = \"\"\"\n",
    "Doctor: Hi, Mr. X, I'm Dr. Y. How are you feeling today?\n",
    "Patient: Not too good, doctor. I've been feeling really sick lately.\n",
    "Doctor: I understand. Can you tell me what symptoms you're experiencing?\n",
    "Patient: Yes, I've been having a fever, a dry cough, and dyspnea.\n",
    "Doctor: I see. You were hospitalized due to moderate ARDS from COVID-19, is that correct?\n",
    "Patient: Yes, that's correct.\n",
    "Doctor: During your physical therapy, we encountered some difficulties. Can you tell me more about that?\n",
    "Patient: Yes, I had trouble with position changes and deep breathing. Every time I tried to change my position or take a deep breath, I would start coughing and it would make me really short of breath.\n",
    "Doctor: I understand. To avoid rapid deterioration and respiratory failure, we instructed you to change positions very slowly and step-by-step, right?\n",
    "Patient: Yes, that's right.\n",
    "Doctor: And I see that this approach increased your oxygen saturation, for example, on day 5 with 6 L/min of oxygen from 93% to 97%.\n",
    "Patient: Yes, that's correct.\n",
    "Doctor: Good. We also had to adapt your breathing exercises to avoid prolonged coughing and oxygen desaturation. Can you tell me more about that?\n",
    "Patient: Yes, I was instructed to stop every deep breath before coughing and to hold my breath for better air distribution.\n",
    "Doctor: I see that you performed the breathing exercises well and managed to increase your oxygen saturation.\n",
    "Patient: Yes, I did my best.\n",
    "Doctor: You also had difficulty maintaining sufficient oxygen saturation during physical activity, is that correct?\n",
    "Patient: Yes, I did. But with close monitoring and frequent breaks, I was able to perform low-level strength and walking exercises without any significant deoxygenation.\n",
    "Doctor: I see that your exercise progression was low on days 1 to 5, but then increased daily until your hospital discharge to a rehabilitation clinic on day 10.\n",
    "Patient: Yes, that's correct.\n",
    "Doctor: Great. I'd like to keep monitoring your progress and see how you're doing. Can you keep me updated on any changes in your symptoms?\n",
    "Patient: Yes, of course, doctor.\n",
    "Doctor: Alright, let's keep in touch. If you have any questions or concerns, don't hesitate to reach out to me.\n",
    "Patient: Thank you, doctor.\n",
    "\"\"\"\n",
    "prompt = f\"\"\"\n",
    "CONVERSATION:\n",
    "{conversation_text}\n",
    "\n",
    "SUMMARY:\n",
    "Please generate a medical summary based on the following clinical notes. The summary should include the following sections: Chief Complaint, History of Present Illness, Vitals, Physical Exam, Results, Assessment, Plan, and Instructions.\n",
    "Please format the response as plain text, without using markdown or special formatting, and with clear headings for each section, like this:\n",
    "\n",
    "\n",
    "CHIEF COMPLAINT\n",
    "A concise statement of the patient's primary concern or reason for visiting the clinic.\n",
    "\n",
    "HISTORY OF PRESENT ILLNESS\n",
    "A detailed narrative about the patient's symptoms, their onset, duration, and any relevant medical history or previous treatments.\n",
    "\n",
    "VITALS\n",
    "Include any relevant vital signs (e.g., oxygen saturation, blood pressure) if available.\n",
    "\n",
    "PHYSICAL EXAM \n",
    "Summarize the findings from the physical examination, including any notable abnormalities.\n",
    "\n",
    "RESULTS \n",
    "Summarize the results of any diagnostic tests performed (e.g., lab work, imaging studies).\n",
    "\n",
    "ASSESSMENT\n",
    "The doctor's assessment of the patient's condition or diagnosis.\n",
    "\n",
    "PLAN\n",
    "The treatment plan, including prescribed medications, lifestyle recommendations, and follow-up instructions.\n",
    "\n",
    "INSTRUCTIONS\n",
    "Specific instructions for the patient regarding their treatment plan and follow-up care.\n",
    "\n",
    "Important Note: If any section lacks relevant information or if specific details are not provided (e.g., vitals are not mentioned, no abnormal findings in the physical exam), omit that section from the generated summary. Only include sections for which there is sufficient information available.\n",
    "\"\"\"\n",
    "\n",
    "\n",
    "# Create a text-generation pipeline\n",
    "# (You can name it 'summarizer' if you wish, but it's using text-generation.)\n",
    "text_gen_pipeline = pipeline(\n",
    "    \"text-generation\",\n",
    "    model=lora_model,\n",
    "    tokenizer=tokenizer,\n",
    "    device_map=\"auto\",   # place on GPU if available\n",
    ")\n",
    "# Now generate text using the pipeline\n",
    "response = text_gen_pipeline(\n",
    "    prompt,\n",
    "    max_new_tokens=600,\n",
    "    do_sample=False,  # Deterministic for demonstration\n",
    ")\n",
    "\n",
    "# The output is a list of dict(s); each has \"generated_text\"\n",
    "generated_text = response[0][\"generated_text\"]\n",
    "# print(\"FULL OUTPUT:\\n\", generated_text)\n",
    "\n",
    "# If the model replicates your training format, you'll see something like:\n",
    "# \"CONVERSATION: ... SUMMARY: <the actual summary text>\"\n",
    "# You can strip off everything before \"SUMMARY:\" if you only want the summary.\n",
    "if \"Summary:\" in generated_text:\n",
    "    final_summary = generated_text.split(\"Summary:\", 1)[-1].strip()\n",
    "else:\n",
    "    final_summary = generated_text\n",
    "\n",
    "print(\"\\nEXTRACTED SUMMARY:\\n\", final_summary)\n"
   ]
  },
  {
   "cell_type": "code",
   "execution_count": 7,
   "metadata": {},
   "outputs": [],
   "source": [
    "import evaluate\n",
    "from tqdm import tqdm\n",
    "\n",
    "# rouge = evaluate.load(\"rouge\")"
   ]
  },
  {
   "cell_type": "code",
   "execution_count": 2,
   "metadata": {},
   "outputs": [
    {
     "name": "stderr",
     "output_type": "stream",
     "text": [
      "Loading checkpoint shards: 100%|██████████| 4/4 [00:14<00:00,  3.71s/it]\n"
     ]
    }
   ],
   "source": [
    "import torch\n",
    "import bitsandbytes as bnb\n",
    "from transformers import (\n",
    "    AutoModelForCausalLM,\n",
    "    AutoTokenizer,\n",
    "    BitsAndBytesConfig,\n",
    "    pipeline\n",
    ")\n",
    "from peft import PeftModel\n",
    "\n",
    "# -- Path to your LoRA weights + tokenizer --\n",
    "model_dir = \"./aloe_qwen\"  \n",
    "\n",
    "# -- 4-bit quantization config (same as training) --\n",
    "bnb_config = BitsAndBytesConfig(\n",
    "    load_in_4bit=True,\n",
    "    bnb_4bit_compute_dtype=torch.float16,\n",
    "    bnb_4bit_use_double_quant=True,\n",
    "    bnb_4bit_quant_type=\"nf4\",\n",
    ")\n",
    "\n",
    "# -- 1) Load the *base* Qwen2.5 model in 4-bit --\n",
    "base_model = AutoModelForCausalLM.from_pretrained(\n",
    "    \"HPAI-BSC/Qwen2.5-Aloe-Beta-7B\",\n",
    "    quantization_config=bnb_config,\n",
    "    device_map=\"auto\",\n",
    ")\n",
    "\n",
    "# -- 2) Load your fine-tuned LoRA adapters into the base model --\n",
    "# The directory should contain adapter_model.bin, adapter_config.json, etc.\n",
    "lora_model = PeftModel.from_pretrained(\n",
    "    base_model, \n",
    "    model_dir,\n",
    "    device_map=\"auto\",\n",
    ")\n",
    "\n",
    "# -- 3) Load the tokenizer you saved to ./aloe_qwen --\n",
    "tokenizer = AutoTokenizer.from_pretrained(model_dir)\n",
    "tokenizer.pad_token = tokenizer.eos_token\n",
    "tokenizer.padding_side = \"left\""
   ]
  },
  {
   "cell_type": "code",
   "execution_count": null,
   "metadata": {},
   "outputs": [
    {
     "name": "stderr",
     "output_type": "stream",
     "text": [
      "Device set to use cuda:0\n",
      "The model 'PeftModelForCausalLM' is not supported for text-generation. Supported models are ['AriaTextForCausalLM', 'BambaForCausalLM', 'BartForCausalLM', 'BertLMHeadModel', 'BertGenerationDecoder', 'BigBirdForCausalLM', 'BigBirdPegasusForCausalLM', 'BioGptForCausalLM', 'BlenderbotForCausalLM', 'BlenderbotSmallForCausalLM', 'BloomForCausalLM', 'CamembertForCausalLM', 'LlamaForCausalLM', 'CodeGenForCausalLM', 'CohereForCausalLM', 'Cohere2ForCausalLM', 'CpmAntForCausalLM', 'CTRLLMHeadModel', 'Data2VecTextForCausalLM', 'DbrxForCausalLM', 'DiffLlamaForCausalLM', 'ElectraForCausalLM', 'Emu3ForCausalLM', 'ErnieForCausalLM', 'FalconForCausalLM', 'FalconMambaForCausalLM', 'FuyuForCausalLM', 'GemmaForCausalLM', 'Gemma2ForCausalLM', 'GitForCausalLM', 'GlmForCausalLM', 'GPT2LMHeadModel', 'GPT2LMHeadModel', 'GPTBigCodeForCausalLM', 'GPTNeoForCausalLM', 'GPTNeoXForCausalLM', 'GPTNeoXJapaneseForCausalLM', 'GPTJForCausalLM', 'GraniteForCausalLM', 'GraniteMoeForCausalLM', 'JambaForCausalLM', 'JetMoeForCausalLM', 'LlamaForCausalLM', 'MambaForCausalLM', 'Mamba2ForCausalLM', 'MarianForCausalLM', 'MBartForCausalLM', 'MegaForCausalLM', 'MegatronBertForCausalLM', 'MistralForCausalLM', 'MixtralForCausalLM', 'MllamaForCausalLM', 'MoshiForCausalLM', 'MptForCausalLM', 'MusicgenForCausalLM', 'MusicgenMelodyForCausalLM', 'MvpForCausalLM', 'NemotronForCausalLM', 'OlmoForCausalLM', 'Olmo2ForCausalLM', 'OlmoeForCausalLM', 'OpenLlamaForCausalLM', 'OpenAIGPTLMHeadModel', 'OPTForCausalLM', 'PegasusForCausalLM', 'PersimmonForCausalLM', 'PhiForCausalLM', 'Phi3ForCausalLM', 'PhimoeForCausalLM', 'PLBartForCausalLM', 'ProphetNetForCausalLM', 'QDQBertLMHeadModel', 'Qwen2ForCausalLM', 'Qwen2MoeForCausalLM', 'RecurrentGemmaForCausalLM', 'ReformerModelWithLMHead', 'RemBertForCausalLM', 'RobertaForCausalLM', 'RobertaPreLayerNormForCausalLM', 'RoCBertForCausalLM', 'RoFormerForCausalLM', 'RwkvForCausalLM', 'Speech2Text2ForCausalLM', 'StableLmForCausalLM', 'Starcoder2ForCausalLM', 'TransfoXLLMHeadModel', 'TrOCRForCausalLM', 'WhisperForCausalLM', 'XGLMForCausalLM', 'XLMWithLMHeadModel', 'XLMProphetNetForCausalLM', 'XLMRobertaForCausalLM', 'XLMRobertaXLForCausalLM', 'XLNetLMHeadModel', 'XmodForCausalLM', 'ZambaForCausalLM'].\n",
      "Repo card metadata block was not found. Setting CardData to empty.\n",
      "Generating Summaries:   0%|          | 0/501 [00:00<?, ?it/s]/home/jovyan/miniconda/envs/py311/lib/python3.11/site-packages/transformers/generation/configuration_utils.py:628: UserWarning: `do_sample` is set to `False`. However, `temperature` is set to `0.7` -- this flag is only used in sample-based generation modes. You should set `do_sample=True` or unset `temperature`.\n",
      "  warnings.warn(\n",
      "/home/jovyan/miniconda/envs/py311/lib/python3.11/site-packages/transformers/generation/configuration_utils.py:633: UserWarning: `do_sample` is set to `False`. However, `top_p` is set to `0.8` -- this flag is only used in sample-based generation modes. You should set `do_sample=True` or unset `top_p`.\n",
      "  warnings.warn(\n",
      "/home/jovyan/miniconda/envs/py311/lib/python3.11/site-packages/transformers/generation/configuration_utils.py:650: UserWarning: `do_sample` is set to `False`. However, `top_k` is set to `20` -- this flag is only used in sample-based generation modes. You should set `do_sample=True` or unset `top_k`.\n",
      "  warnings.warn(\n",
      "Generating Summaries:   2%|▏         | 10/501 [03:33<2:53:49, 21.24s/it]You seem to be using the pipelines sequentially on GPU. In order to maximize efficiency please use a dataset\n",
      "Generating Summaries:  56%|█████▌    | 280/501 [1:38:41<1:17:57, 21.16s/it]"
     ]
    }
   ],
   "source": [
    "from transformers import pipeline\n",
    "summarizer = pipeline(\n",
    "    \"text-generation\",\n",
    "    model=lora_model,\n",
    "    tokenizer=tokenizer,\n",
    "    device_map=\"auto\",  # Automatically place on GPU if available\n",
    ")\n",
    "\n",
    "notechat = load_dataset(\"akemiH/NoteChat\")\n",
    "eval_df = notechat[\"train\"].select(range(5000, 7001)).to_pandas()\n",
    "\n",
    "# 2) Clean up missing data if present\n",
    "if eval_df.isnull().values.any():\n",
    "    print(\"Found missing values in the evaluation set. Dropping them.\")\n",
    "    eval_df = eval_df.dropna()\n",
    "\n",
    "# 3) Prepare batching parameters\n",
    "batch_size = 4\n",
    "num_samples = len(eval_df)\n",
    "num_batches = (num_samples // batch_size) + int(num_samples % batch_size != 0)\n",
    "\n",
    "# Lists to store predictions and references\n",
    "predictions = []\n",
    "references = []\n",
    "\n",
    "# 4) Batching loop to generate summaries\n",
    "for i in tqdm(range(num_batches), desc=\"Generating Summaries\"):\n",
    "    start = i * batch_size\n",
    "    end = min(start + batch_size, num_samples)\n",
    "    \n",
    "    # Extract conversation and reference summary columns\n",
    "    batch_conversations = eval_df[\"conversation\"][start:end].tolist()\n",
    "    batch_refs = eval_df[\"data\"][start:end].tolist()  # \"data\" column for references\n",
    "    \n",
    "    # Prepare prompts replicating training format\n",
    "    prompts = [\n",
    "        f\"CONVERSATION:\\n{conv}\\n\\nSUMMARY:\"\n",
    "        for conv in batch_conversations\n",
    "    ]\n",
    "    \n",
    "    # Generate summaries\n",
    "    results = summarizer(\n",
    "        prompts,\n",
    "        max_new_tokens=100,\n",
    "        do_sample=False,\n",
    "        truncation=True,\n",
    "        num_return_sequences=1  # Default is 1\n",
    "    )\n",
    "    \n",
    "    # Parse results and extract summaries\n",
    "    for item in results:\n",
    "        # 'item' is a list with 1 dict => {\"generated_text\": \"...\"}\n",
    "        output_dict = item[0]\n",
    "        full_text = output_dict[\"generated_text\"]\n",
    "        \n",
    "        # Extract only the part after \"SUMMARY:\"\n",
    "        if \"SUMMARY:\" in full_text:\n",
    "            extracted_summary = full_text.split(\"SUMMARY:\", 1)[-1].strip()\n",
    "        else:\n",
    "            extracted_summary = full_text  # Fallback if marker not found\n",
    "        \n",
    "        predictions.append(extracted_summary)\n",
    "    \n",
    "    # Append the reference texts\n",
    "    references.extend(batch_refs)"
   ]
  },
  {
   "cell_type": "code",
   "execution_count": null,
   "metadata": {},
   "outputs": [],
   "source": [
    "# Compute ROUGE scores\n",
    "results = rouge.compute(predictions=predictions, references=references, use_stemmer=True)\n",
    "\n",
    "print(\"ROUGE scores:\")\n",
    "for key, value in results.items():\n",
    "    print(f\"{key}: {value:.4f}\")"
   ]
  },
  {
   "cell_type": "markdown",
   "metadata": {},
   "source": [
    "###### predictions[0]"
   ]
  },
  {
   "cell_type": "raw",
   "metadata": {},
   "source": [
    "predictions[6]"
   ]
  },
  {
   "cell_type": "code",
   "execution_count": 12,
   "metadata": {},
   "outputs": [
    {
     "data": {
      "text/plain": [
       "'The patient presented with a 12-month history of a purple nodular rash on her nasolabial folds. She reported no itching, burning, pain, or bleeding from the area, but did report drainage of clear fluid when applying pressure to the area. She has a history of cirrhosis, iron deficiency anemia, type II diabetes mellitus, hypertension, asthma, and endometrioid carcinoma of the ovary. A 3-mm punch biopsy of the right nasolab'"
      ]
     },
     "execution_count": 12,
     "metadata": {},
     "output_type": "execute_result"
    }
   ],
   "source": [
    "predictions[1021]"
   ]
  },
  {
   "cell_type": "code",
   "execution_count": 15,
   "metadata": {},
   "outputs": [],
   "source": [
    "src_list = eval_df[\"conversation\"].tolist()\n",
    "ref_list = eval_df[\"data\"].tolist()"
   ]
  },
  {
   "cell_type": "code",
   "execution_count": 16,
   "metadata": {},
   "outputs": [],
   "source": [
    "import sys\n",
    "sys.path.append(\"/home/jovyan/UniEval\") \n",
    "from utils import convert_to_json\n",
    "from metric.evaluator import get_evaluator\n",
    "data = convert_to_json(\n",
    "    src_list=src_list,\n",
    "    ref_list=ref_list,\n",
    "    output_list=output_list\n",
    ")\n"
   ]
  },
  {
   "cell_type": "code",
   "execution_count": 13,
   "metadata": {},
   "outputs": [],
   "source": [
    "output_list = []\n",
    "for pred in predictions:\n",
    "    # Ensure that \"Summary:\" exists in the string to avoid errors\n",
    "    if len(pred) > 0:\n",
    "        output_list.append(pred)\n",
    "    else:\n",
    "        # Handle cases where \"Summary:\" is missing (optional)\n",
    "        output_list.append(\"\")  # Or handle differently based on your needs"
   ]
  },
  {
   "cell_type": "code",
   "execution_count": 17,
   "metadata": {},
   "outputs": [],
   "source": [
    "filtered_data = [\n",
    "    entry for entry in data\n",
    "    if entry[\"system_output\"].strip()  # Ensure non-empty system_output\n",
    "]"
   ]
  },
  {
   "cell_type": "code",
   "execution_count": null,
   "metadata": {},
   "outputs": [],
   "source": [
    "filtered_data"
   ]
  },
  {
   "cell_type": "code",
   "execution_count": 18,
   "metadata": {},
   "outputs": [],
   "source": [
    "import sys\n",
    "sys.path.append(\"/home/jovyan/UniEval\") \n",
    "from utils import convert_to_json\n",
    "from metric.evaluator import get_evaluator\n",
    "task = \"summarization\"\n",
    "evaluator = get_evaluator(task)\n"
   ]
  },
  {
   "cell_type": "code",
   "execution_count": 20,
   "metadata": {},
   "outputs": [
    {
     "name": "stdout",
     "output_type": "stream",
     "text": [
      "Evaluating coherence of 2001 samples !!!\n"
     ]
    },
    {
     "name": "stderr",
     "output_type": "stream",
     "text": [
      "  0%|          | 0/251 [00:00<?, ?it/s]Passing a tuple of `past_key_values` is deprecated and will be removed in Transformers v4.48.0. You should pass an instance of `EncoderDecoderCache` instead, e.g. `past_key_values=EncoderDecoderCache.from_legacy_cache(past_key_values)`.\n",
      "100%|██████████| 251/251 [05:44<00:00,  1.37s/it]\n"
     ]
    },
    {
     "name": "stdout",
     "output_type": "stream",
     "text": [
      "Evaluating consistency of 2001 samples !!!\n"
     ]
    },
    {
     "name": "stderr",
     "output_type": "stream",
     "text": [
      "100%|██████████| 1171/1171 [21:27<00:00,  1.10s/it]\n"
     ]
    },
    {
     "name": "stdout",
     "output_type": "stream",
     "text": [
      "Evaluating fluency of 2001 samples !!!\n"
     ]
    },
    {
     "name": "stderr",
     "output_type": "stream",
     "text": [
      "100%|██████████| 1171/1171 [01:30<00:00, 12.97it/s]\n"
     ]
    },
    {
     "name": "stdout",
     "output_type": "stream",
     "text": [
      "Evaluating relevance of 2001 samples !!!\n"
     ]
    },
    {
     "name": "stderr",
     "output_type": "stream",
     "text": [
      "100%|██████████| 251/251 [03:41<00:00,  1.14it/s]"
     ]
    },
    {
     "name": "stdout",
     "output_type": "stream",
     "text": [
      "\n",
      "Evaluation scores are shown below:\n",
      "+-------------+----------+\n",
      "|  Dimensions |  Score   |\n",
      "+-------------+----------+\n",
      "|  coherence  | 0.966174 |\n",
      "| consistency | 0.884436 |\n",
      "|   fluency   | 0.886275 |\n",
      "|  relevance  | 0.820143 |\n",
      "|   overall   | 0.889257 |\n",
      "+-------------+----------+\n"
     ]
    },
    {
     "name": "stderr",
     "output_type": "stream",
     "text": [
      "\n"
     ]
    }
   ],
   "source": [
    "eval_scores = evaluator.evaluate(filtered_data, print_result=True)"
   ]
  },
  {
   "cell_type": "code",
   "execution_count": 19,
   "metadata": {},
   "outputs": [
    {
     "name": "stdout",
     "output_type": "stream",
     "text": [
      "Data saved to evaluation_data1.json\n"
     ]
    }
   ],
   "source": [
    "import json\n",
    "\n",
    "# Suppose `filtered_data` is the final list of dicts you want to store:\n",
    "# filtered_data = [\n",
    "#   {\"source\": \"...\", \"reference\": \"...\", \"system_output\": \"...\"},\n",
    "#   ...\n",
    "# ]\n",
    "\n",
    "with open(\"evaluation_data1.json\", \"w\", encoding=\"utf-8\") as f:\n",
    "    # Write list of dictionaries to JSON file\n",
    "    json.dump(filtered_data, f, indent=2, ensure_ascii=False)\n",
    "\n",
    "print(\"Data saved to evaluation_data1.json\")\n"
   ]
  },
  {
   "cell_type": "code",
   "execution_count": null,
   "metadata": {},
   "outputs": [],
   "source": [
    "import json\n",
    "\n",
    "with open(\"evaluation_data.json\", \"r\", encoding=\"utf-8\") as f:\n",
    "    filtered_data = json.load(f)\n",
    "\n",
    "print(\"Data loaded. Number of samples:\", len(filtered_data))\n"
   ]
  },
  {
   "cell_type": "code",
   "execution_count": null,
   "metadata": {},
   "outputs": [],
   "source": []
  }
 ],
 "metadata": {
  "kernelspec": {
   "display_name": "Python (kshitij)",
   "language": "python",
   "name": "kshitij"
  },
  "language_info": {
   "codemirror_mode": {
    "name": "ipython",
    "version": 3
   },
   "file_extension": ".py",
   "mimetype": "text/x-python",
   "name": "python",
   "nbconvert_exporter": "python",
   "pygments_lexer": "ipython3",
   "version": "3.11.11"
  }
 },
 "nbformat": 4,
 "nbformat_minor": 4
}
